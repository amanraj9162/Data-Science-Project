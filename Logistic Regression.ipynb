{
 "cells": [
  {
   "cell_type": "code",
   "execution_count": 1,
   "id": "2bdc249b",
   "metadata": {},
   "outputs": [],
   "source": [
    "import pandas as pd"
   ]
  },
  {
   "cell_type": "code",
   "execution_count": 2,
   "id": "18a92162",
   "metadata": {},
   "outputs": [],
   "source": [
    "df=pd.read_csv(\"User_Data.csv\")"
   ]
  },
  {
   "cell_type": "code",
   "execution_count": 3,
   "id": "87389f2f",
   "metadata": {},
   "outputs": [
    {
     "data": {
      "text/html": [
       "<div>\n",
       "<style scoped>\n",
       "    .dataframe tbody tr th:only-of-type {\n",
       "        vertical-align: middle;\n",
       "    }\n",
       "\n",
       "    .dataframe tbody tr th {\n",
       "        vertical-align: top;\n",
       "    }\n",
       "\n",
       "    .dataframe thead th {\n",
       "        text-align: right;\n",
       "    }\n",
       "</style>\n",
       "<table border=\"1\" class=\"dataframe\">\n",
       "  <thead>\n",
       "    <tr style=\"text-align: right;\">\n",
       "      <th></th>\n",
       "      <th>User ID</th>\n",
       "      <th>Gender</th>\n",
       "      <th>Age</th>\n",
       "      <th>EstimatedSalary</th>\n",
       "      <th>Purchased</th>\n",
       "    </tr>\n",
       "  </thead>\n",
       "  <tbody>\n",
       "    <tr>\n",
       "      <th>0</th>\n",
       "      <td>15624510</td>\n",
       "      <td>Male</td>\n",
       "      <td>19</td>\n",
       "      <td>19000</td>\n",
       "      <td>0</td>\n",
       "    </tr>\n",
       "    <tr>\n",
       "      <th>1</th>\n",
       "      <td>15810944</td>\n",
       "      <td>Male</td>\n",
       "      <td>35</td>\n",
       "      <td>20000</td>\n",
       "      <td>0</td>\n",
       "    </tr>\n",
       "    <tr>\n",
       "      <th>2</th>\n",
       "      <td>15668575</td>\n",
       "      <td>Female</td>\n",
       "      <td>26</td>\n",
       "      <td>43000</td>\n",
       "      <td>0</td>\n",
       "    </tr>\n",
       "    <tr>\n",
       "      <th>3</th>\n",
       "      <td>15603246</td>\n",
       "      <td>Female</td>\n",
       "      <td>27</td>\n",
       "      <td>57000</td>\n",
       "      <td>0</td>\n",
       "    </tr>\n",
       "    <tr>\n",
       "      <th>4</th>\n",
       "      <td>15804002</td>\n",
       "      <td>Male</td>\n",
       "      <td>19</td>\n",
       "      <td>76000</td>\n",
       "      <td>0</td>\n",
       "    </tr>\n",
       "    <tr>\n",
       "      <th>...</th>\n",
       "      <td>...</td>\n",
       "      <td>...</td>\n",
       "      <td>...</td>\n",
       "      <td>...</td>\n",
       "      <td>...</td>\n",
       "    </tr>\n",
       "    <tr>\n",
       "      <th>395</th>\n",
       "      <td>15691863</td>\n",
       "      <td>Female</td>\n",
       "      <td>46</td>\n",
       "      <td>41000</td>\n",
       "      <td>1</td>\n",
       "    </tr>\n",
       "    <tr>\n",
       "      <th>396</th>\n",
       "      <td>15706071</td>\n",
       "      <td>Male</td>\n",
       "      <td>51</td>\n",
       "      <td>23000</td>\n",
       "      <td>1</td>\n",
       "    </tr>\n",
       "    <tr>\n",
       "      <th>397</th>\n",
       "      <td>15654296</td>\n",
       "      <td>Female</td>\n",
       "      <td>50</td>\n",
       "      <td>20000</td>\n",
       "      <td>1</td>\n",
       "    </tr>\n",
       "    <tr>\n",
       "      <th>398</th>\n",
       "      <td>15755018</td>\n",
       "      <td>Male</td>\n",
       "      <td>36</td>\n",
       "      <td>33000</td>\n",
       "      <td>0</td>\n",
       "    </tr>\n",
       "    <tr>\n",
       "      <th>399</th>\n",
       "      <td>15594041</td>\n",
       "      <td>Female</td>\n",
       "      <td>49</td>\n",
       "      <td>36000</td>\n",
       "      <td>1</td>\n",
       "    </tr>\n",
       "  </tbody>\n",
       "</table>\n",
       "<p>400 rows × 5 columns</p>\n",
       "</div>"
      ],
      "text/plain": [
       "      User ID  Gender  Age  EstimatedSalary  Purchased\n",
       "0    15624510    Male   19            19000          0\n",
       "1    15810944    Male   35            20000          0\n",
       "2    15668575  Female   26            43000          0\n",
       "3    15603246  Female   27            57000          0\n",
       "4    15804002    Male   19            76000          0\n",
       "..        ...     ...  ...              ...        ...\n",
       "395  15691863  Female   46            41000          1\n",
       "396  15706071    Male   51            23000          1\n",
       "397  15654296  Female   50            20000          1\n",
       "398  15755018    Male   36            33000          0\n",
       "399  15594041  Female   49            36000          1\n",
       "\n",
       "[400 rows x 5 columns]"
      ]
     },
     "execution_count": 3,
     "metadata": {},
     "output_type": "execute_result"
    }
   ],
   "source": [
    "df"
   ]
  },
  {
   "cell_type": "code",
   "execution_count": 4,
   "id": "97ad0095",
   "metadata": {},
   "outputs": [
    {
     "ename": "SyntaxError",
     "evalue": "invalid syntax (1092537160.py, line 1)",
     "output_type": "error",
     "traceback": [
      "\u001b[0;36m  Input \u001b[0;32mIn [4]\u001b[0;36m\u001b[0m\n\u001b[0;31m    dataset contains the information of various users obtained from social networking sites.\u001b[0m\n\u001b[0m            ^\u001b[0m\n\u001b[0;31mSyntaxError\u001b[0m\u001b[0;31m:\u001b[0m invalid syntax\n"
     ]
    }
   ],
   "source": [
    "dataset contains the information of various users obtained from social networking sites.\n",
    "there is a car making company that has recently launched a new new SUV car and wanted to check\n",
    "that users from the social networking websites are going to buy that SUV or not."
   ]
  },
  {
   "cell_type": "code",
   "execution_count": 5,
   "id": "e37244f7",
   "metadata": {},
   "outputs": [],
   "source": [
    "x=df.iloc[:,[2,3]].values\n",
    "y=df.iloc[:,4].values"
   ]
  },
  {
   "cell_type": "code",
   "execution_count": 6,
   "id": "e0a86087",
   "metadata": {},
   "outputs": [],
   "source": [
    "#splitting the data:\n",
    "from sklearn.model_selection import train_test_split\n",
    "x_train,x_test,y_train,y_test=train_test_split(x,y,test_size=0.3,random_state=4)"
   ]
  },
  {
   "cell_type": "code",
   "execution_count": 7,
   "id": "c2d9cbc3",
   "metadata": {},
   "outputs": [
    {
     "data": {
      "text/plain": [
       "<AxesSubplot:ylabel='Density'>"
      ]
     },
     "execution_count": 7,
     "metadata": {},
     "output_type": "execute_result"
    },
    {
     "data": {
      "image/png": "[encoded data removed]",
      "text/plain": [
       "<Figure size 432x288 with 1 Axes>"
      ]
     },
     "metadata": {
      "needs_background": "light"
     },
     "output_type": "display_data"
    }
   ],
   "source": [
    "df[\"Age\"].plot(kind=\"kde\")"
   ]
  },
  {
   "cell_type": "code",
   "execution_count": 8,
   "id": "3c384262",
   "metadata": {},
   "outputs": [
    {
     "data": {
      "text/plain": [
       "<AxesSubplot:ylabel='Density'>"
      ]
     },
     "execution_count": 8,
     "metadata": {},
     "output_type": "execute_result"
    },
    {
     "data": {
      "image/png": "[encoded data removed]",
      "text/plain": [
       "<Figure size 432x288 with 1 Axes>"
      ]
     },
     "metadata": {
      "needs_background": "light"
     },
     "output_type": "display_data"
    }
   ],
   "source": [
    "df[\"EstimatedSalary\"].plot(kind=\"kde\")"
   ]
  },
  {
   "cell_type": "code",
   "execution_count": 12,
   "id": "d9801fdb",
   "metadata": {},
   "outputs": [],
   "source": [
    "# feature scaling: (Standardization) tries to center the data around mean and std of 1.\n",
    "\n",
    "from sklearn.preprocessing import StandardScaler\n",
    "var=StandardScaler()\n",
    "x_train=var.fit_transform(x_train)\n",
    "x_test=var.transform(x_test)"
   ]
  },
  {
   "cell_type": "code",
   "execution_count": 13,
   "id": "0b2726d4",
   "metadata": {},
   "outputs": [
    {
     "data": {
      "text/plain": [
       "array([[-0.94662201, -0.78624689],\n",
       "       [-0.36979032, -0.8156904 ],\n",
       "       [-0.08137447, -0.2562637 ],\n",
       "       [-0.2736517 ,  0.59759811],\n",
       "       [ 1.45684338,  2.12866066],\n",
       "       [-1.13889924,  0.303163  ],\n",
       "       [ 0.11090276,  0.0087279 ],\n",
       "       [ 0.01476414, -0.28570721],\n",
       "       [ 0.39931861,  0.5681546 ],\n",
       "       [ 0.88001168, -1.08068199],\n",
       "       [ 0.30317999, -0.5506988 ],\n",
       "       [-1.23503786,  0.24427598],\n",
       "       [ 1.93753645, -0.69791635],\n",
       "       [-0.56206755,  1.89311257],\n",
       "       [-0.2736517 , -0.60958582],\n",
       "       [-0.08137447,  2.21699119],\n",
       "       [-0.65820616, -0.37403774],\n",
       "       [-0.56206755,  0.8625897 ],\n",
       "       [-0.08137447, -0.5506988 ],\n",
       "       [-0.94662201, -0.99235146],\n",
       "       [ 2.12981369, -1.08068199],\n",
       "       [ 0.9761503 ,  2.06977363],\n",
       "       [ 0.30317999,  0.27371949],\n",
       "       [ 0.39931861, -0.49181178],\n",
       "       [ 1.36070476, -1.46344763],\n",
       "       [ 0.39931861,  0.12650194],\n",
       "       [-0.75434478,  1.06869428],\n",
       "       [ 0.88001168, -1.34567359],\n",
       "       [-1.42731509, -1.25734306],\n",
       "       [-0.8504834 ,  0.12650194],\n",
       "       [-0.75434478,  1.33368587],\n",
       "       [ 0.88001168,  2.15810417],\n",
       "       [ 1.93753645,  0.89203321],\n",
       "       [-0.94662201, -0.34459423],\n",
       "       [ 0.39931861, -0.16793317],\n",
       "       [-0.08137447,  0.18538896],\n",
       "       [-1.04276063, -1.16901252],\n",
       "       [ 2.12981369, -0.84513391],\n",
       "       [ 0.68773445, -1.31623008],\n",
       "       [ 0.9761503 , -1.19845603],\n",
       "       [-1.33117647, -1.28678657],\n",
       "       [ 0.68773445, -1.43400412],\n",
       "       [-0.2736517 ,  0.24427598],\n",
       "       [ 0.88001168, -0.8156904 ],\n",
       "       [ 2.03367507,  0.15594545],\n",
       "       [ 0.30317999,  0.0087279 ],\n",
       "       [-0.36979032, -1.34567359],\n",
       "       [-0.08137447,  0.24427598],\n",
       "       [ 1.07228892,  0.50926758],\n",
       "       [ 0.39931861,  0.24427598],\n",
       "       [-1.61959232,  0.50926758],\n",
       "       [-1.71573093,  0.33260651],\n",
       "       [ 2.12981369, -0.72735987],\n",
       "       [ 0.20704138,  0.12650194],\n",
       "       [-0.65820616, -0.07960263],\n",
       "       [-0.17751309,  2.15810417],\n",
       "       [ 1.55298199,  1.09813779],\n",
       "       [ 0.30317999,  0.03817141],\n",
       "       [-1.81186955, -1.31623008],\n",
       "       [ 0.9761503 ,  0.74481566],\n",
       "       [ 0.20704138, -0.40348125],\n",
       "       [-0.08137447, -0.46236827],\n",
       "       [ 0.11090276,  1.86366906],\n",
       "       [-0.56206755,  1.36312938],\n",
       "       [ 2.12981369,  0.36205002],\n",
       "       [-0.17751309,  1.39257289],\n",
       "       [ 0.20704138, -0.16793317],\n",
       "       [ 0.20704138,  1.06869428],\n",
       "       [-0.65820616, -0.13848965],\n",
       "       [ 0.11090276,  0.12650194],\n",
       "       [-0.75434478,  0.47982407],\n",
       "       [ 1.07228892, -0.16793317],\n",
       "       [-1.23503786, -1.43400412],\n",
       "       [ 1.84139784,  0.09705843],\n",
       "       [-0.17751309, -0.31515072],\n",
       "       [ 0.01476414, -0.60958582],\n",
       "       [ 0.9761503 , -1.22789954],\n",
       "       [ 2.12981369, -0.84513391],\n",
       "       [-0.17751309, -0.5506988 ],\n",
       "       [-0.75434478,  1.89311257],\n",
       "       [ 1.64912061,  1.59867747],\n",
       "       [ 0.20704138,  0.0087279 ],\n",
       "       [ 0.30317999,  0.47982407],\n",
       "       [ 0.30317999, -1.19845603],\n",
       "       [-1.33117647, -0.37403774],\n",
       "       [ 2.03367507,  1.74589502],\n",
       "       [ 0.39931861, -0.02071561],\n",
       "       [-0.2736517 ,  0.12650194],\n",
       "       [-0.08137447, -0.02071561],\n",
       "       [ 2.12981369,  0.92147672],\n",
       "       [ 0.39931861,  1.09813779],\n",
       "       [ 1.07228892, -1.25734306],\n",
       "       [ 0.88001168,  1.00980726],\n",
       "       [-1.23503786, -1.1101255 ],\n",
       "       [-0.08137447,  0.0087279 ],\n",
       "       [ 0.78387307, -1.13956901],\n",
       "       [-0.75434478, -0.63902933],\n",
       "       [ 0.11090276,  0.0087279 ],\n",
       "       [ 0.20704138, -0.34459423],\n",
       "       [ 0.39931861, -0.52125529],\n",
       "       [ 0.11090276,  1.86366906],\n",
       "       [ 0.68773445, -1.43400412],\n",
       "       [-0.2736517 ,  0.03817141],\n",
       "       [ 1.55298199,  0.98036375],\n",
       "       [-1.5234537 ,  0.303163  ],\n",
       "       [-1.90800817, -0.5506988 ],\n",
       "       [-1.13889924,  0.45038056],\n",
       "       [-0.8504834 , -0.8156904 ],\n",
       "       [ 0.01476414, -0.46236827],\n",
       "       [-0.08137447, -1.1101255 ],\n",
       "       [-0.2736517 , -1.28678657],\n",
       "       [ 1.26456615, -1.40456061],\n",
       "       [ 0.01476414,  0.0087279 ],\n",
       "       [-1.33117647, -1.40456061],\n",
       "       [ 0.11090276, -0.84513391],\n",
       "       [-0.2736517 , -0.96290795],\n",
       "       [-0.94662201,  0.24427598],\n",
       "       [-0.08137447,  0.03817141],\n",
       "       [ 0.78387307, -1.43400412],\n",
       "       [ 1.45684338,  0.98036375],\n",
       "       [ 0.78387307,  0.33260651],\n",
       "       [ 1.07228892, -1.25734306],\n",
       "       [ 1.16842753,  0.50926758],\n",
       "       [ 0.88001168,  1.24535534],\n",
       "       [-1.81186955,  0.42093705],\n",
       "       [ 1.45684338, -1.08068199],\n",
       "       [-1.81186955, -1.46344763],\n",
       "       [-1.81186955,  0.15594545],\n",
       "       [-0.08137447,  0.65648513],\n",
       "       [-1.5234537 , -1.28678657],\n",
       "       [-0.08137447, -0.40348125],\n",
       "       [ 2.03367507, -1.22789954],\n",
       "       [ 1.93753645, -0.96290795],\n",
       "       [-1.42731509, -0.22682019],\n",
       "       [-1.42731509, -0.13848965],\n",
       "       [ 0.01476414, -0.16793317],\n",
       "       [ 0.78387307,  0.74481566],\n",
       "       [ 0.49545722,  1.21591183],\n",
       "       [-0.65820616, -1.64010869],\n",
       "       [-0.2736517 ,  0.77425917],\n",
       "       [ 1.45684338,  0.03817141],\n",
       "       [ 1.74525922,  1.83422555],\n",
       "       [-0.2736517 , -0.28570721],\n",
       "       [-1.13889924, -0.8156904 ],\n",
       "       [-0.46592893, -1.25734306],\n",
       "       [-0.65820616, -1.55177816],\n",
       "       [-1.04276063, -0.37403774],\n",
       "       [-1.61959232, -1.61066518],\n",
       "       [ 0.20704138, -0.40348125],\n",
       "       [ 0.78387307, -0.34459423],\n",
       "       [-0.08137447,  0.21483247],\n",
       "       [ 2.03367507,  0.50926758],\n",
       "       [ 0.01476414, -0.28570721],\n",
       "       [ 0.9761503 , -1.1101255 ],\n",
       "       [-0.56206755, -1.55177816],\n",
       "       [ 0.68773445,  1.77533853],\n",
       "       [-0.75434478,  0.53871109],\n",
       "       [-0.46592893, -0.58014231],\n",
       "       [-1.13889924,  0.27371949],\n",
       "       [-0.65820616, -1.08068199],\n",
       "       [-0.56206755,  2.33476523],\n",
       "       [ 0.20704138,  2.09921715],\n",
       "       [-0.8504834 , -0.28570721],\n",
       "       [ 0.68773445,  0.24427598],\n",
       "       [-0.17751309,  1.59867747],\n",
       "       [ 1.55298199, -1.31623008],\n",
       "       [ 0.11090276,  0.06761492],\n",
       "       [-0.94662201,  1.53979045],\n",
       "       [ 2.12981369,  1.09813779],\n",
       "       [ 0.39931861, -0.19737668],\n",
       "       [-1.13889924, -1.58122167],\n",
       "       [-0.2736517 ,  2.2464347 ],\n",
       "       [ 0.88001168, -0.60958582],\n",
       "       [ 0.30317999, -0.34459423],\n",
       "       [ 1.93753645, -1.40456061],\n",
       "       [-1.90800817, -0.07960263],\n",
       "       [-0.8504834 ,  0.27371949],\n",
       "       [-1.13889924, -1.13956901],\n",
       "       [-1.33117647, -0.46236827],\n",
       "       [-0.36979032,  1.30424236],\n",
       "       [ 0.88001168, -1.19845603],\n",
       "       [ 0.11090276,  1.03925077],\n",
       "       [ 0.01476414,  1.21591183],\n",
       "       [ 0.20704138, -0.40348125],\n",
       "       [-1.13889924, -1.64010869],\n",
       "       [ 1.93753645,  2.15810417],\n",
       "       [-1.42731509,  0.33260651],\n",
       "       [-0.2736517 , -0.31515072],\n",
       "       [ 0.88001168, -1.40456061],\n",
       "       [-1.04276063, -1.58122167],\n",
       "       [ 0.9761503 ,  1.77533853],\n",
       "       [-0.2736517 ,  0.18538896],\n",
       "       [-0.46592893, -1.16901252],\n",
       "       [-0.08137447,  0.12650194],\n",
       "       [ 0.11090276,  0.18538896],\n",
       "       [-0.75434478,  0.24427598],\n",
       "       [-0.2736517 , -1.40456061],\n",
       "       [ 0.11090276, -0.28570721],\n",
       "       [-0.2736517 , -0.16793317],\n",
       "       [-0.94662201,  0.47982407],\n",
       "       [ 0.39931861,  0.06761492],\n",
       "       [-1.04276063,  1.95199959],\n",
       "       [ 0.88001168,  1.06869428],\n",
       "       [-0.36979032,  1.21591183],\n",
       "       [ 0.30317999,  0.03817141],\n",
       "       [-1.13889924, -1.19845603],\n",
       "       [-1.04276063, -0.37403774],\n",
       "       [ 0.59159584, -0.93346444],\n",
       "       [-1.90800817,  0.45038056],\n",
       "       [ 0.9761503 ,  0.5681546 ],\n",
       "       [-1.90800817, -0.78624689],\n",
       "       [-1.04276063,  0.53871109],\n",
       "       [-0.56206755,  1.36312938],\n",
       "       [ 1.64912061, -0.93346444],\n",
       "       [-0.65820616,  1.39257289],\n",
       "       [-0.17751309,  0.83314619],\n",
       "       [-0.65820616,  0.0087279 ],\n",
       "       [-0.2736517 , -1.43400412],\n",
       "       [-0.08137447,  0.27371949],\n",
       "       [ 0.11090276, -0.84513391],\n",
       "       [-1.13889924,  0.27371949],\n",
       "       [-0.08137447,  0.27371949],\n",
       "       [ 1.16842753, -1.02179497],\n",
       "       [ 0.9761503 ,  1.4220164 ],\n",
       "       [ 0.30317999, -0.22682019],\n",
       "       [-1.33117647,  0.39149353],\n",
       "       [ 0.9761503 , -0.87457742],\n",
       "       [-0.08137447,  2.15810417],\n",
       "       [ 0.39931861,  0.27371949],\n",
       "       [ 0.30317999, -0.75680338],\n",
       "       [-0.2736517 , -0.69791635],\n",
       "       [-0.46592893, -0.87457742],\n",
       "       [-0.46592893,  1.24535534],\n",
       "       [ 0.20704138,  0.21483247],\n",
       "       [ 0.39931861,  2.30532172],\n",
       "       [-1.33117647,  0.53871109],\n",
       "       [-1.33117647, -1.13956901],\n",
       "       [ 1.36070476,  0.5681546 ],\n",
       "       [-0.2736517 , -0.78624689],\n",
       "       [-0.2736517 ,  0.06761492],\n",
       "       [ 1.36070476,  1.27479885],\n",
       "       [-1.04276063, -0.40348125],\n",
       "       [ 0.9761503 , -1.1101255 ],\n",
       "       [ 0.30317999,  0.24427598],\n",
       "       [-1.23503786,  0.5681546 ],\n",
       "       [ 1.74525922,  0.98036375],\n",
       "       [-0.8504834 ,  2.27587821],\n",
       "       [ 0.88001168, -0.58014231],\n",
       "       [ 0.30317999, -0.5506988 ],\n",
       "       [-0.65820616,  0.53871109],\n",
       "       [-1.71573093,  0.33260651],\n",
       "       [-0.65820616,  0.09705843],\n",
       "       [-0.17751309, -1.1101255 ],\n",
       "       [-0.94662201,  0.53871109],\n",
       "       [-1.42731509, -0.66847284],\n",
       "       [ 1.07228892,  0.09705843],\n",
       "       [-1.71573093,  0.09705843],\n",
       "       [ 0.88001168, -0.63902933],\n",
       "       [-0.46592893, -0.8156904 ],\n",
       "       [-1.81186955, -1.52233465],\n",
       "       [-0.8504834 ,  0.36205002],\n",
       "       [ 0.39931861, -0.16793317],\n",
       "       [-0.2736517 , -0.40348125],\n",
       "       [-0.94662201,  0.39149353],\n",
       "       [-0.46592893, -0.05015912],\n",
       "       [ 0.78387307, -0.87457742],\n",
       "       [ 1.07228892,  2.06977363],\n",
       "       [ 0.11090276,  0.74481566],\n",
       "       [-0.8504834 ,  0.36205002],\n",
       "       [ 0.01476414,  0.27371949],\n",
       "       [ 0.39931861, -0.49181178],\n",
       "       [ 0.9761503 ,  1.86366906],\n",
       "       [-1.5234537 , -1.55177816],\n",
       "       [ 1.26456615,  1.86366906],\n",
       "       [-0.94662201,  0.42093705],\n",
       "       [ 0.49545722,  1.71645151],\n",
       "       [ 1.74525922, -0.31515072],\n",
       "       [-1.71573093, -1.02179497],\n",
       "       [-0.36979032,  0.03817141],\n",
       "       [ 0.20704138,  0.12650194]])"
      ]
     },
     "execution_count": 13,
     "metadata": {},
     "output_type": "execute_result"
    }
   ],
   "source": [
    "x_train"
   ]
  },
  {
   "cell_type": "code",
   "execution_count": 14,
   "id": "e201f178",
   "metadata": {},
   "outputs": [
    {
     "data": {
      "text/plain": [
       "array([[-0.39650428, -0.21955086],\n",
       "       [-0.96181732,  0.48301189],\n",
       "       [-1.15025499,  0.57083223],\n",
       "       [ 0.07458991, -0.51228534],\n",
       "       [-0.96181732,  0.60010568],\n",
       "       [ 1.86474786, -1.21484808],\n",
       "       [ 0.82834063,  0.60010568],\n",
       "       [ 1.39365366,  2.06377807],\n",
       "       [ 1.11099714,  0.62937913],\n",
       "       [ 0.07458991, -0.48301189],\n",
       "       [ 0.07458991, -0.24882431],\n",
       "       [-0.96181732, -0.39519154],\n",
       "       [-1.15025499,  0.3659181 ],\n",
       "       [ 0.35724643, -0.21955086],\n",
       "       [ 0.35724643, -0.48301189],\n",
       "       [-0.30228544, -0.71719947],\n",
       "       [-1.05603615, -0.45373844],\n",
       "       [-1.05603615, -1.53685601],\n",
       "       [-1.24447383, -0.3659181 ],\n",
       "       [-1.24447383, -1.41976222],\n",
       "       [-0.11384776, -0.39519154],\n",
       "       [-0.86759848, -0.24882431],\n",
       "       [-1.80978687,  0.42446499],\n",
       "       [ 1.9589667 ,  0.80501981],\n",
       "       [ 0.35724643,  0.13173051],\n",
       "       [ 1.86474786,  1.5954029 ],\n",
       "       [-0.96181732,  0.83429326],\n",
       "       [ 0.26302759,  0.13173051],\n",
       "       [-1.62134919, -1.30266843],\n",
       "       [-0.2080666 ,  0.10245707],\n",
       "       [ 0.16880875, -0.24882431],\n",
       "       [ 0.82834063, -1.30266843],\n",
       "       [-1.52713035,  0.01463672],\n",
       "       [-0.6791608 ,  0.3659181 ],\n",
       "       [ 0.92255947, -0.60010568],\n",
       "       [-0.11384776,  0.21955086],\n",
       "       [ 1.58209134,  0.07318362],\n",
       "       [-1.05603615, -1.50758256],\n",
       "       [-0.2080666 ,  0.60010568],\n",
       "       [-0.49072312, -1.44903566],\n",
       "       [-0.11384776,  1.71249669],\n",
       "       [-1.05603615,  0.48301189],\n",
       "       [-1.62134919, -0.54155878],\n",
       "       [-0.86759848, -0.3659181 ],\n",
       "       [ 0.92255947, -1.39048877],\n",
       "       [ 0.26302759, -0.19027741],\n",
       "       [-0.77337964, -0.71719947],\n",
       "       [-0.01962892,  0.19027741],\n",
       "       [ 0.82834063,  0.33664465],\n",
       "       [ 0.45146527,  1.06848084],\n",
       "       [-0.2080666 , -0.3659181 ],\n",
       "       [-1.05603615,  1.47830911],\n",
       "       [ 0.26302759, -0.60010568],\n",
       "       [ 2.05318553,  0.45373844],\n",
       "       [ 0.54568411,  1.91741083],\n",
       "       [-0.2080666 , -1.24412153],\n",
       "       [ 0.07458991,  1.33194187],\n",
       "       [-0.6791608 , -0.16100396],\n",
       "       [ 0.16880875,  0.33664465],\n",
       "       [ 1.20521598, -0.68792602],\n",
       "       [ 1.86474786, -1.00993395],\n",
       "       [ 1.20521598, -1.39048877],\n",
       "       [-0.77337964, -0.60010568],\n",
       "       [-0.2080666 , -0.27809775],\n",
       "       [-0.96181732,  0.65865257],\n",
       "       [ 0.07458991,  0.10245707],\n",
       "       [-1.43291151, -0.13173051],\n",
       "       [-1.71556803, -1.24412153],\n",
       "       [ 0.82834063,  0.19027741],\n",
       "       [ 1.11099714, -0.83429326],\n",
       "       [-1.43291151, -0.3659181 ],\n",
       "       [ 0.82834063,  1.44903566],\n",
       "       [ 0.26302759, -0.21955086],\n",
       "       [-0.01962892,  2.03450462],\n",
       "       [ 1.39365366,  2.41505944],\n",
       "       [-0.2080666 , -0.42446499],\n",
       "       [ 0.35724643,  0.13173051],\n",
       "       [-1.71556803,  0.07318362],\n",
       "       [-0.01962892, -0.42446499],\n",
       "       [ 1.11099714,  0.54155878],\n",
       "       [-0.11384776, -0.51228534],\n",
       "       [-0.2080666 ,  1.18557463],\n",
       "       [ 0.16880875,  1.5954029 ],\n",
       "       [-0.6791608 , -1.47830911],\n",
       "       [-0.49072312,  0.54155878],\n",
       "       [-0.2080666 , -0.24882431],\n",
       "       [-0.2080666 ,  0.21955086],\n",
       "       [ 0.82834063, -1.15630119],\n",
       "       [ 0.45146527,  0.3659181 ],\n",
       "       [-0.11384776, -0.13173051],\n",
       "       [ 1.67631018,  1.82959049],\n",
       "       [-0.6791608 , -1.53685601],\n",
       "       [-0.2080666 , -1.39048877],\n",
       "       [-0.39650428,  2.38578599],\n",
       "       [-1.05603615, -0.95138705],\n",
       "       [ 0.73412179, -0.65865257],\n",
       "       [-0.49072312,  1.53685601],\n",
       "       [-1.52713035,  0.13173051],\n",
       "       [ 0.73412179, -1.0392074 ],\n",
       "       [ 1.0167783 ,  2.06377807],\n",
       "       [-0.96181732, -1.39048877],\n",
       "       [-0.58494196,  0.24882431],\n",
       "       [-1.62134919,  0.54155878],\n",
       "       [ 2.05318553, -0.74647292],\n",
       "       [ 1.4878725 ,  0.42446499],\n",
       "       [ 1.39365366, -0.86356671],\n",
       "       [-0.2080666 , -0.83429326],\n",
       "       [ 1.0167783 , -0.95138705],\n",
       "       [-0.86759848, -1.0392074 ],\n",
       "       [ 2.05318553,  2.21014531],\n",
       "       [ 1.11099714, -0.9221136 ],\n",
       "       [-0.2080666 , -0.51228534],\n",
       "       [ 0.63990295,  2.09305152],\n",
       "       [-1.33869267, -1.39048877],\n",
       "       [-1.05603615,  0.13173051],\n",
       "       [ 1.86474786, -0.21955086],\n",
       "       [-0.2080666 ,  0.13173051],\n",
       "       [ 1.29943482,  2.29796565],\n",
       "       [ 1.0167783 ,  0.19027741],\n",
       "       [-0.77337964, -1.15630119]])"
      ]
     },
     "execution_count": 14,
     "metadata": {},
     "output_type": "execute_result"
    }
   ],
   "source": [
    "x_test"
   ]
  },
  {
   "cell_type": "code",
   "execution_count": 15,
   "id": "6173b709",
   "metadata": {},
   "outputs": [
    {
     "data": {
      "text/plain": [
       "LogisticRegression()"
      ]
     },
     "execution_count": 15,
     "metadata": {},
     "output_type": "execute_result"
    }
   ],
   "source": [
    "#fitting of Logistic Regression model:\n",
    "from sklearn.linear_model import LogisticRegression\n",
    "class_=LogisticRegression()\n",
    "class_.fit(x_train,y_train)"
   ]
  },
  {
   "cell_type": "code",
   "execution_count": 16,
   "id": "7a32e6e5",
   "metadata": {},
   "outputs": [],
   "source": [
    "y_pred=class_.predict(x_test)"
   ]
  },
  {
   "cell_type": "code",
   "execution_count": 17,
   "id": "57a6a6e8",
   "metadata": {},
   "outputs": [
    {
     "data": {
      "text/plain": [
       "array([0, 0, 0, 0, 0, 1, 1, 1, 1, 0, 0, 0, 0, 0, 0, 0, 0, 0, 0, 0, 0, 0,\n",
       "       0, 1, 0, 1, 0, 0, 0, 0, 0, 0, 0, 0, 1, 0, 1, 0, 0, 0, 1, 0, 0, 0,\n",
       "       0, 0, 0, 0, 1, 1, 0, 0, 0, 1, 1, 0, 1, 0, 0, 1, 1, 1, 0, 0, 0, 0,\n",
       "       0, 0, 1, 1, 0, 1, 0, 1, 1, 0, 0, 0, 0, 1, 0, 0, 1, 0, 0, 0, 0, 0,\n",
       "       1, 0, 1, 0, 0, 1, 0, 0, 0, 0, 0, 1, 0, 0, 0, 1, 1, 1, 0, 1, 0, 1,\n",
       "       1, 0, 1, 0, 0, 1, 0, 1, 1, 0])"
      ]
     },
     "execution_count": 17,
     "metadata": {},
     "output_type": "execute_result"
    }
   ],
   "source": [
    "y_pred"
   ]
  },
  {
   "cell_type": "code",
   "execution_count": 18,
   "id": "efb5d214",
   "metadata": {},
   "outputs": [
    {
     "data": {
      "text/plain": [
       "array([0, 0, 0, 0, 0, 1, 1, 1, 1, 0, 0, 0, 0, 0, 0, 0, 0, 0, 0, 0, 0, 0,\n",
       "       0, 1, 0, 1, 1, 0, 0, 0, 0, 1, 0, 0, 0, 0, 1, 0, 0, 0, 1, 0, 0, 0,\n",
       "       1, 0, 0, 0, 1, 1, 0, 0, 0, 0, 0, 0, 1, 0, 0, 0, 1, 1, 0, 0, 0, 0,\n",
       "       0, 0, 0, 1, 0, 1, 0, 1, 1, 0, 0, 0, 0, 1, 0, 0, 1, 0, 0, 0, 0, 1,\n",
       "       1, 0, 1, 0, 0, 1, 0, 1, 1, 0, 1, 1, 0, 0, 0, 0, 1, 1, 0, 1, 0, 1,\n",
       "       1, 0, 1, 0, 0, 1, 0, 1, 1, 0])"
      ]
     },
     "execution_count": 18,
     "metadata": {},
     "output_type": "execute_result"
    }
   ],
   "source": [
    "y_test"
   ]
  },
  {
   "cell_type": "code",
   "execution_count": 20,
   "id": "3714bc4b",
   "metadata": {},
   "outputs": [
    {
     "data": {
      "text/plain": [
       "0.8916666666666667"
      ]
     },
     "execution_count": 20,
     "metadata": {},
     "output_type": "execute_result"
    }
   ],
   "source": [
    "from sklearn.metrics import accuracy_score,confusion_matrix\n",
    "accuracy_score(y_pred,y_test)"
   ]
  },
  {
   "cell_type": "code",
   "execution_count": 22,
   "id": "f552f2f8",
   "metadata": {},
   "outputs": [
    {
     "data": {
      "text/plain": [
       "array([[75,  7],\n",
       "       [ 6, 32]])"
      ]
     },
     "execution_count": 22,
     "metadata": {},
     "output_type": "execute_result"
    }
   ],
   "source": [
    "confusion_matrix(y_pred,y_test)"
   ]
  },
  {
   "cell_type": "code",
   "execution_count": 24,
   "id": "19e78d7f",
   "metadata": {},
   "outputs": [
    {
     "data": {
      "text/plain": [
       "(120,)"
      ]
     },
     "execution_count": 24,
     "metadata": {},
     "output_type": "execute_result"
    }
   ],
   "source": [
    "y_pred.shape"
   ]
  },
  {
   "cell_type": "code",
   "execution_count": null,
   "id": "72ee655d",
   "metadata": {},
   "outputs": [],
   "source": [
    "()"
   ]
  }
 ],
 "metadata": {
  "kernelspec": {
   "display_name": "Python 3 (ipykernel)",
   "language": "python",
   "name": "python3"
  },
  "language_info": {
   "codemirror_mode": {
    "name": "ipython",
    "version": 3
   },
   "file_extension": ".py",
   "mimetype": "text/x-python",
   "name": "python",
   "nbconvert_exporter": "python",
   "pygments_lexer": "ipython3",
   "version": "3.9.12"
  }
 },
 "nbformat": 4,
 "nbformat_minor": 5
}
