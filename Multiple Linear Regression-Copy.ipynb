{
 "cells": [
  {
   "cell_type": "code",
   "execution_count": 1,
   "id": "2f486d01",
   "metadata": {},
   "outputs": [],
   "source": [
    "import pandas as pd"
   ]
  },
  {
   "cell_type": "code",
   "execution_count": 2,
   "id": "467f0f60",
   "metadata": {},
   "outputs": [],
   "source": [
    "df=pd.read_csv(\"ec.csv\")"
   ]
  },
  {
   "cell_type": "code",
   "execution_count": 3,
   "id": "1a735a66",
   "metadata": {},
   "outputs": [
    {
     "data": {
      "text/html": [
       "<div>\n",
       "<style scoped>\n",
       "    .dataframe tbody tr th:only-of-type {\n",
       "        vertical-align: middle;\n",
       "    }\n",
       "\n",
       "    .dataframe tbody tr th {\n",
       "        vertical-align: top;\n",
       "    }\n",
       "\n",
       "    .dataframe thead th {\n",
       "        text-align: right;\n",
       "    }\n",
       "</style>\n",
       "<table border=\"1\" class=\"dataframe\">\n",
       "  <thead>\n",
       "    <tr style=\"text-align: right;\">\n",
       "      <th></th>\n",
       "      <th>Email</th>\n",
       "      <th>Address</th>\n",
       "      <th>Avatar</th>\n",
       "      <th>Avg. Session Length</th>\n",
       "      <th>Time on App</th>\n",
       "      <th>Time on Website</th>\n",
       "      <th>Length of Membership</th>\n",
       "      <th>Yearly Amount Spent</th>\n",
       "    </tr>\n",
       "  </thead>\n",
       "  <tbody>\n",
       "    <tr>\n",
       "      <th>0</th>\n",
       "      <td>mstephenson@fernandez.com</td>\n",
       "      <td>835 Frank Tunnel\\nWrightmouth, MI 82180-9605</td>\n",
       "      <td>Violet</td>\n",
       "      <td>34.497268</td>\n",
       "      <td>12.655651</td>\n",
       "      <td>39.577668</td>\n",
       "      <td>4.082621</td>\n",
       "      <td>587.951054</td>\n",
       "    </tr>\n",
       "    <tr>\n",
       "      <th>1</th>\n",
       "      <td>hduke@hotmail.com</td>\n",
       "      <td>4547 Archer Common\\nDiazchester, CA 06566-8576</td>\n",
       "      <td>DarkGreen</td>\n",
       "      <td>31.926272</td>\n",
       "      <td>11.109461</td>\n",
       "      <td>37.268959</td>\n",
       "      <td>2.664034</td>\n",
       "      <td>392.204933</td>\n",
       "    </tr>\n",
       "    <tr>\n",
       "      <th>2</th>\n",
       "      <td>pallen@yahoo.com</td>\n",
       "      <td>24645 Valerie Unions Suite 582\\nCobbborough, D...</td>\n",
       "      <td>Bisque</td>\n",
       "      <td>33.000915</td>\n",
       "      <td>11.330278</td>\n",
       "      <td>37.110597</td>\n",
       "      <td>4.104543</td>\n",
       "      <td>487.547505</td>\n",
       "    </tr>\n",
       "    <tr>\n",
       "      <th>3</th>\n",
       "      <td>riverarebecca@gmail.com</td>\n",
       "      <td>1414 David Throughway\\nPort Jason, OH 22070-1220</td>\n",
       "      <td>SaddleBrown</td>\n",
       "      <td>34.305557</td>\n",
       "      <td>13.717514</td>\n",
       "      <td>36.721283</td>\n",
       "      <td>3.120179</td>\n",
       "      <td>581.852344</td>\n",
       "    </tr>\n",
       "    <tr>\n",
       "      <th>4</th>\n",
       "      <td>mstephens@davidson-herman.com</td>\n",
       "      <td>14023 Rodriguez Passage\\nPort Jacobville, PR 3...</td>\n",
       "      <td>MediumAquaMarine</td>\n",
       "      <td>33.330673</td>\n",
       "      <td>12.795189</td>\n",
       "      <td>37.536653</td>\n",
       "      <td>4.446308</td>\n",
       "      <td>599.406092</td>\n",
       "    </tr>\n",
       "    <tr>\n",
       "      <th>...</th>\n",
       "      <td>...</td>\n",
       "      <td>...</td>\n",
       "      <td>...</td>\n",
       "      <td>...</td>\n",
       "      <td>...</td>\n",
       "      <td>...</td>\n",
       "      <td>...</td>\n",
       "      <td>...</td>\n",
       "    </tr>\n",
       "    <tr>\n",
       "      <th>495</th>\n",
       "      <td>lewisjessica@craig-evans.com</td>\n",
       "      <td>4483 Jones Motorway Suite 872\\nLake Jamiefurt,...</td>\n",
       "      <td>Tan</td>\n",
       "      <td>33.237660</td>\n",
       "      <td>13.566160</td>\n",
       "      <td>36.417985</td>\n",
       "      <td>3.746573</td>\n",
       "      <td>573.847438</td>\n",
       "    </tr>\n",
       "    <tr>\n",
       "      <th>496</th>\n",
       "      <td>katrina56@gmail.com</td>\n",
       "      <td>172 Owen Divide Suite 497\\nWest Richard, CA 19320</td>\n",
       "      <td>PaleVioletRed</td>\n",
       "      <td>34.702529</td>\n",
       "      <td>11.695736</td>\n",
       "      <td>37.190268</td>\n",
       "      <td>3.576526</td>\n",
       "      <td>529.049004</td>\n",
       "    </tr>\n",
       "    <tr>\n",
       "      <th>497</th>\n",
       "      <td>dale88@hotmail.com</td>\n",
       "      <td>0787 Andrews Ranch Apt. 633\\nSouth Chadburgh, ...</td>\n",
       "      <td>Cornsilk</td>\n",
       "      <td>32.646777</td>\n",
       "      <td>11.499409</td>\n",
       "      <td>38.332576</td>\n",
       "      <td>4.958264</td>\n",
       "      <td>551.620145</td>\n",
       "    </tr>\n",
       "    <tr>\n",
       "      <th>498</th>\n",
       "      <td>cwilson@hotmail.com</td>\n",
       "      <td>680 Jennifer Lodge Apt. 808\\nBrendachester, TX...</td>\n",
       "      <td>Teal</td>\n",
       "      <td>33.322501</td>\n",
       "      <td>12.391423</td>\n",
       "      <td>36.840086</td>\n",
       "      <td>2.336485</td>\n",
       "      <td>456.469510</td>\n",
       "    </tr>\n",
       "    <tr>\n",
       "      <th>499</th>\n",
       "      <td>hannahwilson@davidson.com</td>\n",
       "      <td>49791 Rachel Heights Apt. 898\\nEast Drewboroug...</td>\n",
       "      <td>DarkMagenta</td>\n",
       "      <td>33.715981</td>\n",
       "      <td>12.418808</td>\n",
       "      <td>35.771016</td>\n",
       "      <td>2.735160</td>\n",
       "      <td>497.778642</td>\n",
       "    </tr>\n",
       "  </tbody>\n",
       "</table>\n",
       "<p>500 rows × 8 columns</p>\n",
       "</div>"
      ],
      "text/plain": [
       "                             Email  \\\n",
       "0        mstephenson@fernandez.com   \n",
       "1                hduke@hotmail.com   \n",
       "2                 pallen@yahoo.com   \n",
       "3          riverarebecca@gmail.com   \n",
       "4    mstephens@davidson-herman.com   \n",
       "..                             ...   \n",
       "495   lewisjessica@craig-evans.com   \n",
       "496            katrina56@gmail.com   \n",
       "497             dale88@hotmail.com   \n",
       "498            cwilson@hotmail.com   \n",
       "499      hannahwilson@davidson.com   \n",
       "\n",
       "                                               Address            Avatar  \\\n",
       "0         835 Frank Tunnel\\nWrightmouth, MI 82180-9605            Violet   \n",
       "1       4547 Archer Common\\nDiazchester, CA 06566-8576         DarkGreen   \n",
       "2    24645 Valerie Unions Suite 582\\nCobbborough, D...            Bisque   \n",
       "3     1414 David Throughway\\nPort Jason, OH 22070-1220       SaddleBrown   \n",
       "4    14023 Rodriguez Passage\\nPort Jacobville, PR 3...  MediumAquaMarine   \n",
       "..                                                 ...               ...   \n",
       "495  4483 Jones Motorway Suite 872\\nLake Jamiefurt,...               Tan   \n",
       "496  172 Owen Divide Suite 497\\nWest Richard, CA 19320     PaleVioletRed   \n",
       "497  0787 Andrews Ranch Apt. 633\\nSouth Chadburgh, ...          Cornsilk   \n",
       "498  680 Jennifer Lodge Apt. 808\\nBrendachester, TX...              Teal   \n",
       "499  49791 Rachel Heights Apt. 898\\nEast Drewboroug...       DarkMagenta   \n",
       "\n",
       "     Avg. Session Length  Time on App  Time on Website  Length of Membership  \\\n",
       "0              34.497268    12.655651        39.577668              4.082621   \n",
       "1              31.926272    11.109461        37.268959              2.664034   \n",
       "2              33.000915    11.330278        37.110597              4.104543   \n",
       "3              34.305557    13.717514        36.721283              3.120179   \n",
       "4              33.330673    12.795189        37.536653              4.446308   \n",
       "..                   ...          ...              ...                   ...   \n",
       "495            33.237660    13.566160        36.417985              3.746573   \n",
       "496            34.702529    11.695736        37.190268              3.576526   \n",
       "497            32.646777    11.499409        38.332576              4.958264   \n",
       "498            33.322501    12.391423        36.840086              2.336485   \n",
       "499            33.715981    12.418808        35.771016              2.735160   \n",
       "\n",
       "     Yearly Amount Spent  \n",
       "0             587.951054  \n",
       "1             392.204933  \n",
       "2             487.547505  \n",
       "3             581.852344  \n",
       "4             599.406092  \n",
       "..                   ...  \n",
       "495           573.847438  \n",
       "496           529.049004  \n",
       "497           551.620145  \n",
       "498           456.469510  \n",
       "499           497.778642  \n",
       "\n",
       "[500 rows x 8 columns]"
      ]
     },
     "execution_count": 3,
     "metadata": {},
     "output_type": "execute_result"
    }
   ],
   "source": [
    "df"
   ]
  },
  {
   "cell_type": "code",
   "execution_count": null,
   "id": "260a37d9",
   "metadata": {},
   "outputs": [],
   "source": []
  },
  {
   "cell_type": "code",
   "execution_count": 4,
   "id": "b9d018f5",
   "metadata": {},
   "outputs": [
    {
     "ename": "SyntaxError",
     "evalue": "invalid syntax (1559919479.py, line 1)",
     "output_type": "error",
     "traceback": [
      "\u001b[0;36m  Input \u001b[0;32mIn [4]\u001b[0;36m\u001b[0m\n\u001b[0;31m    The dataset contains data of customers who buys clothes online.The store offers in-store style\u001b[0m\n\u001b[0m        ^\u001b[0m\n\u001b[0;31mSyntaxError\u001b[0m\u001b[0;31m:\u001b[0m invalid syntax\n"
     ]
    }
   ],
   "source": [
    "The dataset contains data of customers who buys clothes online.The store offers in-store style \n",
    "and clothing advice sessions. Cystomers come into the store, have session/meetings\n",
    "with a personal stylist,then they can go home and order product either on mobileapp or\n",
    "website for clothes they want.\n",
    "\n",
    "the company is trying to decide whether to focus their efforts on their mobile app experience \n",
    "or their website."
   ]
  },
  {
   "cell_type": "code",
   "execution_count": null,
   "id": "fb254bae",
   "metadata": {},
   "outputs": [],
   "source": [
    "import seaborn as sns"
   ]
  },
  {
   "cell_type": "code",
   "execution_count": 5,
   "id": "a459eb31",
   "metadata": {},
   "outputs": [
    {
     "ename": "NameError",
     "evalue": "name 'sns' is not defined",
     "output_type": "error",
     "traceback": [
      "\u001b[0;31m---------------------------------------------------------------------------\u001b[0m",
      "\u001b[0;31mNameError\u001b[0m                                 Traceback (most recent call last)",
      "Input \u001b[0;32mIn [5]\u001b[0m, in \u001b[0;36m<cell line: 1>\u001b[0;34m()\u001b[0m\n\u001b[0;32m----> 1\u001b[0m \u001b[43msns\u001b[49m\u001b[38;5;241m.\u001b[39mpairplot(df)\n",
      "\u001b[0;31mNameError\u001b[0m: name 'sns' is not defined"
     ]
    }
   ],
   "source": [
    "sns.pairplot(df)"
   ]
  },
  {
   "cell_type": "code",
   "execution_count": null,
   "id": "07dff5e7",
   "metadata": {},
   "outputs": [],
   "source": [
    "df.dtypes"
   ]
  },
  {
   "cell_type": "code",
   "execution_count": 6,
   "id": "5e9ed172",
   "metadata": {},
   "outputs": [
    {
     "data": {
      "text/plain": [
       "(500, 1)"
      ]
     },
     "execution_count": 6,
     "metadata": {},
     "output_type": "execute_result"
    }
   ],
   "source": [
    "x=df.iloc[:,3:7].values\n",
    "y=df.iloc[:,7:8].values\n",
    "x.shape\n",
    "y.shape"
   ]
  },
  {
   "cell_type": "code",
   "execution_count": 7,
   "id": "65a8a495",
   "metadata": {},
   "outputs": [],
   "source": [
    "from sklearn.model_selection import train_test_split\n",
    "x_train,x_test,y_train,y_test=train_test_split(x,y,test_size=0.25,random_state=10)"
   ]
  },
  {
   "cell_type": "code",
   "execution_count": 8,
   "id": "e40d485f",
   "metadata": {},
   "outputs": [
    {
     "data": {
      "text/plain": [
       "array([[33.4794716 , 12.60888879, 37.22939452,  4.20590389],\n",
       "       [33.40992259, 12.02694222, 36.13389429,  2.31334988],\n",
       "       [32.5367749 , 11.12136606, 36.97937237,  4.12925469],\n",
       "       ...,\n",
       "       [33.44812501, 11.90375668, 36.8745436 ,  2.78275783],\n",
       "       [31.57613197, 12.57989417, 37.09326487,  4.53198661],\n",
       "       [33.90271779, 11.66886651, 37.34126616,  4.25698329]])"
      ]
     },
     "execution_count": 8,
     "metadata": {},
     "output_type": "execute_result"
    }
   ],
   "source": [
    "x_train"
   ]
  },
  {
   "cell_type": "code",
   "execution_count": 9,
   "id": "4e72dd9f",
   "metadata": {},
   "outputs": [
    {
     "data": {
      "text/plain": [
       "LinearRegression()"
      ]
     },
     "execution_count": 9,
     "metadata": {},
     "output_type": "execute_result"
    }
   ],
   "source": [
    "from sklearn.linear_model import LinearRegression\n",
    "lm=LinearRegression()\n",
    "lm.fit(x_train,y_train)"
   ]
  },
  {
   "cell_type": "code",
   "execution_count": 10,
   "id": "e8f74037",
   "metadata": {},
   "outputs": [],
   "source": [
    "y_pred=lm.predict(x_test)"
   ]
  },
  {
   "cell_type": "code",
   "execution_count": 11,
   "id": "0402c38a",
   "metadata": {},
   "outputs": [
    {
     "data": {
      "text/plain": [
       "array([[684.16343102],\n",
       "       [491.9115051 ],\n",
       "       [595.80381888],\n",
       "       [612.3852299 ],\n",
       "       [573.30622226],\n",
       "       [479.61481167],\n",
       "       [554.00309343],\n",
       "       [573.84743772],\n",
       "       [744.2218671 ],\n",
       "       [475.26342373],\n",
       "       [521.19531053],\n",
       "       [555.89259539],\n",
       "       [550.04758058],\n",
       "       [496.93344626],\n",
       "       [533.39655379],\n",
       "       [434.14420203],\n",
       "       [547.24434342],\n",
       "       [563.67287336],\n",
       "       [436.58074035],\n",
       "       [412.0129313 ],\n",
       "       [537.8252823 ],\n",
       "       [445.74984124],\n",
       "       [492.5568337 ],\n",
       "       [501.92826487],\n",
       "       [708.93518487],\n",
       "       [431.61773376],\n",
       "       [532.93521884],\n",
       "       [461.79095906],\n",
       "       [490.20659998],\n",
       "       [478.60091594],\n",
       "       [545.94549214],\n",
       "       [494.63860976],\n",
       "       [467.80092437],\n",
       "       [515.50247966],\n",
       "       [518.06455798],\n",
       "       [532.71748568],\n",
       "       [420.91615953],\n",
       "       [479.23109291],\n",
       "       [530.36246889],\n",
       "       [511.97985999],\n",
       "       [507.39006179],\n",
       "       [546.55666686],\n",
       "       [642.10157873],\n",
       "       [423.3083341 ],\n",
       "       [700.91709162],\n",
       "       [611.0000251 ],\n",
       "       [663.07481761],\n",
       "       [765.51846194],\n",
       "       [571.30749488],\n",
       "       [456.46951007],\n",
       "       [476.13924687],\n",
       "       [489.9080531 ],\n",
       "       [589.02648976],\n",
       "       [473.94985742],\n",
       "       [541.97220376],\n",
       "       [492.94505307],\n",
       "       [432.47206125],\n",
       "       [549.90414611],\n",
       "       [439.99787994],\n",
       "       [570.45172591],\n",
       "       [420.73767324],\n",
       "       [418.1500811 ],\n",
       "       [532.72480546],\n",
       "       [557.25268675],\n",
       "       [465.17662331],\n",
       "       [378.47356645],\n",
       "       [497.38955776],\n",
       "       [585.9318443 ],\n",
       "       [398.16346853],\n",
       "       [502.4097853 ],\n",
       "       [308.52774656],\n",
       "       [535.32161009],\n",
       "       [616.85152297],\n",
       "       [452.12262509],\n",
       "       [521.57217476],\n",
       "       [421.32663126],\n",
       "       [494.68715581],\n",
       "       [510.15981728],\n",
       "       [528.93361857],\n",
       "       [581.30893288],\n",
       "       [565.9943634 ],\n",
       "       [514.00981785],\n",
       "       [547.12593175],\n",
       "       [444.58216498],\n",
       "       [596.51669797],\n",
       "       [392.20493344],\n",
       "       [505.11963753],\n",
       "       [507.212569  ],\n",
       "       [492.60601272],\n",
       "       [462.89763615],\n",
       "       [666.12559173],\n",
       "       [578.98625858],\n",
       "       [357.59143942],\n",
       "       [597.73987888],\n",
       "       [527.78378976],\n",
       "       [725.58481406],\n",
       "       [614.72963763],\n",
       "       [507.44183234],\n",
       "       [488.78606109],\n",
       "       [604.33484007],\n",
       "       [689.78760417],\n",
       "       [378.33090691],\n",
       "       [535.48077519],\n",
       "       [330.59444603],\n",
       "       [463.92351299],\n",
       "       [445.06218551],\n",
       "       [518.78648309],\n",
       "       [538.94197453],\n",
       "       [592.6884532 ],\n",
       "       [408.62018783],\n",
       "       [689.23569976],\n",
       "       [498.63559849],\n",
       "       [547.11098236],\n",
       "       [541.04983096],\n",
       "       [357.85798361],\n",
       "       [424.2028271 ],\n",
       "       [619.89563986],\n",
       "       [466.42119882],\n",
       "       [451.62861054],\n",
       "       [266.08634095],\n",
       "       [432.72071784],\n",
       "       [357.86371864],\n",
       "       [495.29944255],\n",
       "       [409.07047205],\n",
       "       [553.99467359]])"
      ]
     },
     "execution_count": 11,
     "metadata": {},
     "output_type": "execute_result"
    }
   ],
   "source": [
    "y_test"
   ]
  },
  {
   "cell_type": "code",
   "execution_count": 12,
   "id": "f1f608da",
   "metadata": {},
   "outputs": [
    {
     "data": {
      "text/plain": [
       "array([[685.76171668],\n",
       "       [497.03683343],\n",
       "       [598.75876541],\n",
       "       [609.74164839],\n",
       "       [585.05386949],\n",
       "       [478.01415623],\n",
       "       [543.30538514],\n",
       "       [575.16641509],\n",
       "       [752.66176797],\n",
       "       [468.59150244],\n",
       "       [506.43999477],\n",
       "       [559.31995354],\n",
       "       [553.42446193],\n",
       "       [494.74607182],\n",
       "       [531.08812549],\n",
       "       [433.50504504],\n",
       "       [543.53610225],\n",
       "       [562.47882337],\n",
       "       [420.88230356],\n",
       "       [408.57705732],\n",
       "       [543.73189565],\n",
       "       [450.75431146],\n",
       "       [499.15431516],\n",
       "       [507.24840011],\n",
       "       [693.53868027],\n",
       "       [434.78142529],\n",
       "       [527.51087297],\n",
       "       [465.93991533],\n",
       "       [493.98674656],\n",
       "       [477.9142303 ],\n",
       "       [563.63405774],\n",
       "       [487.99005417],\n",
       "       [481.42901643],\n",
       "       [508.02486243],\n",
       "       [515.08331384],\n",
       "       [539.12233966],\n",
       "       [421.57650239],\n",
       "       [471.41229729],\n",
       "       [510.06201003],\n",
       "       [507.15378156],\n",
       "       [503.17902947],\n",
       "       [551.39438541],\n",
       "       [642.2450909 ],\n",
       "       [434.28079591],\n",
       "       [703.93969713],\n",
       "       [606.67425489],\n",
       "       [658.04736588],\n",
       "       [766.19250824],\n",
       "       [576.70050685],\n",
       "       [444.90477293],\n",
       "       [473.51560345],\n",
       "       [503.70891758],\n",
       "       [601.696238  ],\n",
       "       [491.1896852 ],\n",
       "       [551.78137114],\n",
       "       [489.52677675],\n",
       "       [428.83629219],\n",
       "       [558.72785861],\n",
       "       [431.90700589],\n",
       "       [556.4589335 ],\n",
       "       [401.51140128],\n",
       "       [421.33636604],\n",
       "       [546.64406195],\n",
       "       [565.10234837],\n",
       "       [472.48848429],\n",
       "       [371.31697532],\n",
       "       [480.30160783],\n",
       "       [588.49436738],\n",
       "       [411.25765434],\n",
       "       [518.98070672],\n",
       "       [314.70374816],\n",
       "       [532.27292692],\n",
       "       [606.72524936],\n",
       "       [458.35808896],\n",
       "       [517.27554573],\n",
       "       [421.63028129],\n",
       "       [497.62060332],\n",
       "       [506.04509909],\n",
       "       [532.6049101 ],\n",
       "       [601.48276867],\n",
       "       [574.81624368],\n",
       "       [519.43568711],\n",
       "       [565.25565544],\n",
       "       [451.30059513],\n",
       "       [593.63343976],\n",
       "       [380.13426744],\n",
       "       [511.60395825],\n",
       "       [500.77759816],\n",
       "       [508.03615645],\n",
       "       [472.04359873],\n",
       "       [671.50529125],\n",
       "       [571.91573438],\n",
       "       [363.84668326],\n",
       "       [599.024875  ],\n",
       "       [515.98868676],\n",
       "       [726.02792081],\n",
       "       [598.38694902],\n",
       "       [512.50382279],\n",
       "       [499.6502907 ],\n",
       "       [599.28952957],\n",
       "       [685.36807159],\n",
       "       [389.99699835],\n",
       "       [548.7750662 ],\n",
       "       [324.7773555 ],\n",
       "       [451.91192827],\n",
       "       [430.72550478],\n",
       "       [518.77390116],\n",
       "       [530.87052799],\n",
       "       [581.2302578 ],\n",
       "       [408.12592982],\n",
       "       [677.43220035],\n",
       "       [482.82440428],\n",
       "       [538.23990465],\n",
       "       [542.88910373],\n",
       "       [346.52063926],\n",
       "       [406.75214107],\n",
       "       [608.58388432],\n",
       "       [457.56772346],\n",
       "       [432.65213281],\n",
       "       [282.24610876],\n",
       "       [429.4516924 ],\n",
       "       [351.54633709],\n",
       "       [487.72751986],\n",
       "       [395.45213329],\n",
       "       [563.12864035]])"
      ]
     },
     "execution_count": 12,
     "metadata": {},
     "output_type": "execute_result"
    }
   ],
   "source": [
    "y_pred"
   ]
  },
  {
   "cell_type": "code",
   "execution_count": 13,
   "id": "504ebe24",
   "metadata": {},
   "outputs": [
    {
     "data": {
      "text/plain": [
       "0.9818558248780255"
      ]
     },
     "execution_count": 13,
     "metadata": {},
     "output_type": "execute_result"
    }
   ],
   "source": [
    " lm.score(x_train,y_train)  #accuracy"
   ]
  },
  {
   "cell_type": "code",
   "execution_count": 14,
   "id": "159629a0",
   "metadata": {},
   "outputs": [
    {
     "data": {
      "text/plain": [
       "0.9888913271772004"
      ]
     },
     "execution_count": 14,
     "metadata": {},
     "output_type": "execute_result"
    }
   ],
   "source": [
    "from sklearn.metrics import r2_score #accuracy\n",
    "r2_score(y_test,y_pred) "
   ]
  },
  {
   "cell_type": "code",
   "execution_count": 15,
   "id": "a1362885",
   "metadata": {},
   "outputs": [],
   "source": [
    "import matplotlib.pyplot as plt"
   ]
  },
  {
   "cell_type": "code",
   "execution_count": 16,
   "id": "59ae36df",
   "metadata": {},
   "outputs": [
    {
     "data": {
      "text/plain": [
       "<matplotlib.collections.PathCollection at 0x7f82590cbfa0>"
      ]
     },
     "execution_count": 16,
     "metadata": {},
     "output_type": "execute_result"
    },
    {
     "data": {
      "image/png": "[encoded data removed]",
      "text/plain": [
       "<Figure size 432x288 with 1 Axes>"
      ]
     },
     "metadata": {
      "needs_background": "light"
     },
     "output_type": "display_data"
    }
   ],
   "source": [
    "plt.scatter(y_test,y_pred)\n"
   ]
  },
  {
   "cell_type": "code",
   "execution_count": 17,
   "id": "843e2acd",
   "metadata": {},
   "outputs": [
    {
     "data": {
      "text/plain": [
       "7.725690293789257"
      ]
     },
     "execution_count": 17,
     "metadata": {},
     "output_type": "execute_result"
    }
   ],
   "source": [
    "import sklearn.metrics as metrics\n",
    "import numpy as np\n",
    "metrics.mean_absolute_error(y_test,y_pred)"
   ]
  },
  {
   "cell_type": "code",
   "execution_count": 18,
   "id": "606556ea",
   "metadata": {},
   "outputs": [
    {
     "data": {
      "text/plain": [
       "87.32746229932447"
      ]
     },
     "execution_count": 18,
     "metadata": {},
     "output_type": "execute_result"
    }
   ],
   "source": [
    "metrics.mean_squared_error(y_test,y_pred)"
   ]
  },
  {
   "cell_type": "code",
   "execution_count": 19,
   "id": "3ce25d0f",
   "metadata": {},
   "outputs": [
    {
     "data": {
      "text/plain": [
       "9.344916388032825"
      ]
     },
     "execution_count": 19,
     "metadata": {},
     "output_type": "execute_result"
    }
   ],
   "source": [
    "np.sqrt(metrics.mean_squared_error(y_test,y_pred))"
   ]
  },
  {
   "cell_type": "code",
   "execution_count": 20,
   "id": "c6d7229b",
   "metadata": {},
   "outputs": [
    {
     "data": {
      "text/plain": [
       "Email                    object\n",
       "Address                  object\n",
       "Avatar                   object\n",
       "Avg. Session Length     float64\n",
       "Time on App             float64\n",
       "Time on Website         float64\n",
       "Length of Membership    float64\n",
       "Yearly Amount Spent     float64\n",
       "dtype: object"
      ]
     },
     "execution_count": 20,
     "metadata": {},
     "output_type": "execute_result"
    }
   ],
   "source": [
    "df.dtypes"
   ]
  },
  {
   "cell_type": "code",
   "execution_count": 21,
   "id": "b9cf8a61",
   "metadata": {},
   "outputs": [],
   "source": [
    "lm.coef_\n",
    "x_1=pd.DataFrame(lm.coef_,columns=[\"Avg. Session Length\",\"Time on App\",\"Time on Website \",\"Length of Membership\"])"
   ]
  },
  {
   "cell_type": "code",
   "execution_count": 22,
   "id": "13dcfe76",
   "metadata": {},
   "outputs": [
    {
     "data": {
      "text/html": [
       "<div>\n",
       "<style scoped>\n",
       "    .dataframe tbody tr th:only-of-type {\n",
       "        vertical-align: middle;\n",
       "    }\n",
       "\n",
       "    .dataframe tbody tr th {\n",
       "        vertical-align: top;\n",
       "    }\n",
       "\n",
       "    .dataframe thead th {\n",
       "        text-align: right;\n",
       "    }\n",
       "</style>\n",
       "<table border=\"1\" class=\"dataframe\">\n",
       "  <thead>\n",
       "    <tr style=\"text-align: right;\">\n",
       "      <th></th>\n",
       "      <th>Avg. Session Length</th>\n",
       "      <th>Time on App</th>\n",
       "      <th>Time on Website</th>\n",
       "      <th>Length of Membership</th>\n",
       "    </tr>\n",
       "  </thead>\n",
       "  <tbody>\n",
       "    <tr>\n",
       "      <th>0</th>\n",
       "      <td>25.658143</td>\n",
       "      <td>38.641896</td>\n",
       "      <td>0.706037</td>\n",
       "      <td>61.941139</td>\n",
       "    </tr>\n",
       "  </tbody>\n",
       "</table>\n",
       "</div>"
      ],
      "text/plain": [
       "   Avg. Session Length  Time on App  Time on Website   Length of Membership\n",
       "0            25.658143    38.641896          0.706037             61.941139"
      ]
     },
     "execution_count": 22,
     "metadata": {},
     "output_type": "execute_result"
    }
   ],
   "source": [
    "x_1"
   ]
  },
  {
   "cell_type": "markdown",
   "id": "39ebd0b5",
   "metadata": {},
   "source": [
    "# Assumptions for linear regression models:"
   ]
  },
  {
   "cell_type": "code",
   "execution_count": 26,
   "id": "e6bc6ce8",
   "metadata": {},
   "outputs": [
    {
     "ename": "SyntaxError",
     "evalue": "invalid syntax (3367530352.py, line 1)",
     "output_type": "error",
     "traceback": [
      "\u001b[0;36m  Input \u001b[0;32mIn [26]\u001b[0;36m\u001b[0m\n\u001b[0;31m    1.Normality: The data should follow a normal distribution\u001b[0m\n\u001b[0m      ^\u001b[0m\n\u001b[0;31mSyntaxError\u001b[0m\u001b[0;31m:\u001b[0m invalid syntax\n"
     ]
    }
   ],
   "source": [
    "1.Normality: The data should follow a normal distribution\n",
    "2. Linearity: The any of the independent features should create a linear relationship with\n",
    "    the depedent feature, also the line for the best fit throught the data points is\n",
    "    a straight line rather than a curve.\n",
    "    \n",
    "3.Independence of observation: all the obeservation should get collected with valid sampling\n",
    "    methods and there should be no hidden relationship between variables.\n",
    "    r<~0.6.\n",
    "    \n",
    "4. Multicollinearity: independent features does not follow coorelation.\n",
    "    \n",
    "5. mean of residuals should be zero.\n",
    "\n",
    "6. residual should also follow normal distribution.\n",
    "\n",
    "7.homoscedasticity- constant variance across the errors with change in independent feature\n",
    "error remain constant."
   ]
  },
  {
   "cell_type": "code",
   "execution_count": 27,
   "id": "cc28941a",
   "metadata": {},
   "outputs": [
    {
     "data": {
      "text/html": [
       "<div>\n",
       "<style scoped>\n",
       "    .dataframe tbody tr th:only-of-type {\n",
       "        vertical-align: middle;\n",
       "    }\n",
       "\n",
       "    .dataframe tbody tr th {\n",
       "        vertical-align: top;\n",
       "    }\n",
       "\n",
       "    .dataframe thead th {\n",
       "        text-align: right;\n",
       "    }\n",
       "</style>\n",
       "<table border=\"1\" class=\"dataframe\">\n",
       "  <thead>\n",
       "    <tr style=\"text-align: right;\">\n",
       "      <th></th>\n",
       "      <th>Avg. Session Length</th>\n",
       "      <th>Time on App</th>\n",
       "      <th>Time on Website</th>\n",
       "      <th>Length of Membership</th>\n",
       "      <th>Yearly Amount Spent</th>\n",
       "    </tr>\n",
       "  </thead>\n",
       "  <tbody>\n",
       "    <tr>\n",
       "      <th>Avg. Session Length</th>\n",
       "      <td>1.000000</td>\n",
       "      <td>-0.027826</td>\n",
       "      <td>-0.034987</td>\n",
       "      <td>0.060247</td>\n",
       "      <td>0.355088</td>\n",
       "    </tr>\n",
       "    <tr>\n",
       "      <th>Time on App</th>\n",
       "      <td>-0.027826</td>\n",
       "      <td>1.000000</td>\n",
       "      <td>0.082388</td>\n",
       "      <td>0.029143</td>\n",
       "      <td>0.499328</td>\n",
       "    </tr>\n",
       "    <tr>\n",
       "      <th>Time on Website</th>\n",
       "      <td>-0.034987</td>\n",
       "      <td>0.082388</td>\n",
       "      <td>1.000000</td>\n",
       "      <td>-0.047582</td>\n",
       "      <td>-0.002641</td>\n",
       "    </tr>\n",
       "    <tr>\n",
       "      <th>Length of Membership</th>\n",
       "      <td>0.060247</td>\n",
       "      <td>0.029143</td>\n",
       "      <td>-0.047582</td>\n",
       "      <td>1.000000</td>\n",
       "      <td>0.809084</td>\n",
       "    </tr>\n",
       "    <tr>\n",
       "      <th>Yearly Amount Spent</th>\n",
       "      <td>0.355088</td>\n",
       "      <td>0.499328</td>\n",
       "      <td>-0.002641</td>\n",
       "      <td>0.809084</td>\n",
       "      <td>1.000000</td>\n",
       "    </tr>\n",
       "  </tbody>\n",
       "</table>\n",
       "</div>"
      ],
      "text/plain": [
       "                      Avg. Session Length  Time on App  Time on Website  \\\n",
       "Avg. Session Length              1.000000    -0.027826        -0.034987   \n",
       "Time on App                     -0.027826     1.000000         0.082388   \n",
       "Time on Website                 -0.034987     0.082388         1.000000   \n",
       "Length of Membership             0.060247     0.029143        -0.047582   \n",
       "Yearly Amount Spent              0.355088     0.499328        -0.002641   \n",
       "\n",
       "                      Length of Membership  Yearly Amount Spent  \n",
       "Avg. Session Length               0.060247             0.355088  \n",
       "Time on App                       0.029143             0.499328  \n",
       "Time on Website                  -0.047582            -0.002641  \n",
       "Length of Membership              1.000000             0.809084  \n",
       "Yearly Amount Spent               0.809084             1.000000  "
      ]
     },
     "execution_count": 27,
     "metadata": {},
     "output_type": "execute_result"
    }
   ],
   "source": [
    "df.corr()"
   ]
  },
  {
   "cell_type": "code",
   "execution_count": 28,
   "id": "640a1835",
   "metadata": {},
   "outputs": [
    {
     "data": {
      "text/plain": [
       "<AxesSubplot:>"
      ]
     },
     "execution_count": 28,
     "metadata": {},
     "output_type": "execute_result"
    },
    {
     "data": {
      "image/png": "[encoded data removed]",
      "text/plain": [
       "<Figure size 432x288 with 2 Axes>"
      ]
     },
     "metadata": {
      "needs_background": "light"
     },
     "output_type": "display_data"
    }
   ],
   "source": [
    "sns.heatmap(df.corr(),annot=True)"
   ]
  },
  {
   "cell_type": "code",
   "execution_count": 29,
   "id": "7bf4eacc",
   "metadata": {},
   "outputs": [],
   "source": [
    "residuals=y_test-y_pred"
   ]
  },
  {
   "cell_type": "code",
   "execution_count": 30,
   "id": "0ee7e4e3",
   "metadata": {},
   "outputs": [
    {
     "data": {
      "text/plain": [
       "0.47438273296483296"
      ]
     },
     "execution_count": 30,
     "metadata": {},
     "output_type": "execute_result"
    }
   ],
   "source": [
    "residuals.mean() #mean of residual should be 0"
   ]
  },
  {
   "cell_type": "code",
   "execution_count": 31,
   "id": "4b87c9d9",
   "metadata": {},
   "outputs": [
    {
     "data": {
      "text/plain": [
       "array([[-1.59828566e+00],\n",
       "       [-5.12532833e+00],\n",
       "       [-2.95494653e+00],\n",
       "       [ 2.64358150e+00],\n",
       "       [-1.17476472e+01],\n",
       "       [ 1.60065544e+00],\n",
       "       [ 1.06977083e+01],\n",
       "       [-1.31897737e+00],\n",
       "       [-8.43990087e+00],\n",
       "       [ 6.67192128e+00],\n",
       "       [ 1.47553158e+01],\n",
       "       [-3.42735815e+00],\n",
       "       [-3.37688136e+00],\n",
       "       [ 2.18737443e+00],\n",
       "       [ 2.30842830e+00],\n",
       "       [ 6.39156991e-01],\n",
       "       [ 3.70824117e+00],\n",
       "       [ 1.19404999e+00],\n",
       "       [ 1.56984368e+01],\n",
       "       [ 3.43587398e+00],\n",
       "       [-5.90661335e+00],\n",
       "       [-5.00447022e+00],\n",
       "       [-6.59748146e+00],\n",
       "       [-5.32013523e+00],\n",
       "       [ 1.53965046e+01],\n",
       "       [-3.16369153e+00],\n",
       "       [ 5.42434587e+00],\n",
       "       [-4.14895627e+00],\n",
       "       [-3.78014658e+00],\n",
       "       [ 6.86685649e-01],\n",
       "       [-1.76885656e+01],\n",
       "       [ 6.64855559e+00],\n",
       "       [-1.36280921e+01],\n",
       "       [ 7.47761723e+00],\n",
       "       [ 2.98124415e+00],\n",
       "       [-6.40485398e+00],\n",
       "       [-6.60342857e-01],\n",
       "       [ 7.81879563e+00],\n",
       "       [ 2.03004589e+01],\n",
       "       [ 4.82607843e+00],\n",
       "       [ 4.21103232e+00],\n",
       "       [-4.83771855e+00],\n",
       "       [-1.43512167e-01],\n",
       "       [-1.09724618e+01],\n",
       "       [-3.02260551e+00],\n",
       "       [ 4.32577021e+00],\n",
       "       [ 5.02745173e+00],\n",
       "       [-6.74046298e-01],\n",
       "       [-5.39301198e+00],\n",
       "       [ 1.15647371e+01],\n",
       "       [ 2.62364342e+00],\n",
       "       [-1.38008645e+01],\n",
       "       [-1.26697482e+01],\n",
       "       [-1.72398278e+01],\n",
       "       [-9.80916738e+00],\n",
       "       [ 3.41827631e+00],\n",
       "       [ 3.63576907e+00],\n",
       "       [-8.82371250e+00],\n",
       "       [ 8.09087405e+00],\n",
       "       [ 1.39927924e+01],\n",
       "       [ 1.92262720e+01],\n",
       "       [-3.18628495e+00],\n",
       "       [-1.39192565e+01],\n",
       "       [-7.84966162e+00],\n",
       "       [-7.31186098e+00],\n",
       "       [ 7.15659113e+00],\n",
       "       [ 1.70879499e+01],\n",
       "       [-2.56252309e+00],\n",
       "       [-1.30941858e+01],\n",
       "       [-1.65709214e+01],\n",
       "       [-6.17600160e+00],\n",
       "       [ 3.04868317e+00],\n",
       "       [ 1.01262736e+01],\n",
       "       [-6.23546388e+00],\n",
       "       [ 4.29662903e+00],\n",
       "       [-3.03650032e-01],\n",
       "       [-2.93344751e+00],\n",
       "       [ 4.11471819e+00],\n",
       "       [-3.67129153e+00],\n",
       "       [-2.01738358e+01],\n",
       "       [-8.82188028e+00],\n",
       "       [-5.42586926e+00],\n",
       "       [-1.81297237e+01],\n",
       "       [-6.71843015e+00],\n",
       "       [ 2.88325821e+00],\n",
       "       [ 1.20706660e+01],\n",
       "       [-6.48432072e+00],\n",
       "       [ 6.43497084e+00],\n",
       "       [-1.54301437e+01],\n",
       "       [-9.14596258e+00],\n",
       "       [-5.37969953e+00],\n",
       "       [ 7.07052420e+00],\n",
       "       [-6.25524384e+00],\n",
       "       [-1.28499612e+00],\n",
       "       [ 1.17951030e+01],\n",
       "       [-4.43106755e-01],\n",
       "       [ 1.63426886e+01],\n",
       "       [-5.06199045e+00],\n",
       "       [-1.08642296e+01],\n",
       "       [ 5.04531049e+00],\n",
       "       [ 4.41953258e+00],\n",
       "       [-1.16660914e+01],\n",
       "       [-1.32942910e+01],\n",
       "       [ 5.81709053e+00],\n",
       "       [ 1.20115847e+01],\n",
       "       [ 1.43366807e+01],\n",
       "       [ 1.25819322e-02],\n",
       "       [ 8.07144654e+00],\n",
       "       [ 1.14581954e+01],\n",
       "       [ 4.94258013e-01],\n",
       "       [ 1.18034994e+01],\n",
       "       [ 1.58111942e+01],\n",
       "       [ 8.87107771e+00],\n",
       "       [-1.83927277e+00],\n",
       "       [ 1.13373443e+01],\n",
       "       [ 1.74506860e+01],\n",
       "       [ 1.13117555e+01],\n",
       "       [ 8.85347536e+00],\n",
       "       [ 1.89764777e+01],\n",
       "       [-1.61597678e+01],\n",
       "       [ 3.26902544e+00],\n",
       "       [ 6.31738155e+00],\n",
       "       [ 7.57192268e+00],\n",
       "       [ 1.36183388e+01],\n",
       "       [-9.13396676e+00]])"
      ]
     },
     "execution_count": 31,
     "metadata": {},
     "output_type": "execute_result"
    }
   ],
   "source": [
    "residuals"
   ]
  },
  {
   "cell_type": "code",
   "execution_count": 32,
   "id": "5a13c7d0",
   "metadata": {},
   "outputs": [
    {
     "name": "stderr",
     "output_type": "stream",
     "text": [
      "/opt/anaconda3/lib/python3.9/site-packages/seaborn/distributions.py:2619: FutureWarning: `distplot` is a deprecated function and will be removed in a future version. Please adapt your code to use either `displot` (a figure-level function with similar flexibility) or `histplot` (an axes-level function for histograms).\n",
      "  warnings.warn(msg, FutureWarning)\n"
     ]
    },
    {
     "data": {
      "text/plain": [
       "<AxesSubplot:ylabel='Density'>"
      ]
     },
     "execution_count": 32,
     "metadata": {},
     "output_type": "execute_result"
    },
    {
     "data": {
      "image/png": "[encoded data removed]",
      "text/plain": [
       "<Figure size 432x288 with 1 Axes>"
      ]
     },
     "metadata": {
      "needs_background": "light"
     },
     "output_type": "display_data"
    }
   ],
   "source": [
    "sns.distplot(residuals)  #residuals should also be normally distributed."
   ]
  },
  {
   "cell_type": "code",
   "execution_count": 33,
   "id": "b9cbb940",
   "metadata": {},
   "outputs": [
    {
     "name": "stderr",
     "output_type": "stream",
     "text": [
      "/opt/anaconda3/lib/python3.9/site-packages/seaborn/_decorators.py:36: FutureWarning: Pass the following variables as keyword args: x, y. From version 0.12, the only valid positional argument will be `data`, and passing other arguments without an explicit keyword will result in an error or misinterpretation.\n",
      "  warnings.warn(\n"
     ]
    },
    {
     "data": {
      "text/plain": [
       "[<matplotlib.lines.Line2D at 0x7faa90cc1a30>]"
      ]
     },
     "execution_count": 33,
     "metadata": {},
     "output_type": "execute_result"
    },
    {
     "data": {
      "image/png": "[encoded data removed]",
      "text/plain": [
       "<Figure size 432x288 with 1 Axes>"
      ]
     },
     "metadata": {
      "needs_background": "light"
     },
     "output_type": "display_data"
    }
   ],
   "source": [
    "#detecting heteroscedasticity:\n",
    "y_pred=np.ravel(y_pred)\n",
    "residuals=np.ravel(residuals)\n",
    "sns.scatterplot(y_pred,residuals)\n",
    "#sns.lineplot([0,1000],[0,0],color=\"red\")\n",
    "plt.plot([0,1000],[0,0],color=\"purple\")"
   ]
  },
  {
   "cell_type": "markdown",
   "id": "6b54aeb2",
   "metadata": {},
   "source": [
    "# OLS for optimization of multiple linear regression model:"
   ]
  },
  {
   "cell_type": "code",
   "execution_count": 26,
   "id": "ea4b0ade",
   "metadata": {},
   "outputs": [],
   "source": [
    "import statsmodels.api as sm"
   ]
  },
  {
   "cell_type": "code",
   "execution_count": 27,
   "id": "8c0b67d1",
   "metadata": {},
   "outputs": [
    {
     "data": {
      "text/plain": [
       "array([[ 1.        , 34.49726773, 12.65565115, 39.57766802,  4.08262063],\n",
       "       [ 1.        , 31.92627203, 11.10946073, 37.26895887,  2.66403418],\n",
       "       [ 1.        , 33.00091476, 11.33027806, 37.11059744,  4.1045432 ],\n",
       "       ...,\n",
       "       [ 1.        , 32.64677668, 11.49940906, 38.33257633,  4.95826447],\n",
       "       [ 1.        , 33.32250105, 12.39142299, 36.84008573,  2.33648467],\n",
       "       [ 1.        , 33.71598092, 12.41880832, 35.77101619,  2.73515957]])"
      ]
     },
     "execution_count": 27,
     "metadata": {},
     "output_type": "execute_result"
    }
   ],
   "source": [
    "x=sm.add_constant(x)\n",
    "x"
   ]
  },
  {
   "cell_type": "code",
   "execution_count": 28,
   "id": "ae2f4747",
   "metadata": {},
   "outputs": [],
   "source": [
    "model=sm.OLS(y,x).fit()"
   ]
  },
  {
   "cell_type": "code",
   "execution_count": 29,
   "id": "77f22645",
   "metadata": {},
   "outputs": [
    {
     "data": {
      "text/html": [
       "<table class=\"simpletable\">\n",
       "<caption>OLS Regression Results</caption>\n",
       "<tr>\n",
       "  <th>Dep. Variable:</th>            <td>y</td>        <th>  R-squared:         </th> <td>   0.984</td>\n",
       "</tr>\n",
       "<tr>\n",
       "  <th>Model:</th>                   <td>OLS</td>       <th>  Adj. R-squared:    </th> <td>   0.984</td>\n",
       "</tr>\n",
       "<tr>\n",
       "  <th>Method:</th>             <td>Least Squares</td>  <th>  F-statistic:       </th> <td>   7766.</td>\n",
       "</tr>\n",
       "<tr>\n",
       "  <th>Date:</th>             <td>Tue, 25 Jun 2024</td> <th>  Prob (F-statistic):</th>  <td>  0.00</td> \n",
       "</tr>\n",
       "<tr>\n",
       "  <th>Time:</th>                 <td>20:23:07</td>     <th>  Log-Likelihood:    </th> <td> -1856.9</td>\n",
       "</tr>\n",
       "<tr>\n",
       "  <th>No. Observations:</th>      <td>   500</td>      <th>  AIC:               </th> <td>   3724.</td>\n",
       "</tr>\n",
       "<tr>\n",
       "  <th>Df Residuals:</th>          <td>   495</td>      <th>  BIC:               </th> <td>   3745.</td>\n",
       "</tr>\n",
       "<tr>\n",
       "  <th>Df Model:</th>              <td>     4</td>      <th>                     </th>     <td> </td>   \n",
       "</tr>\n",
       "<tr>\n",
       "  <th>Covariance Type:</th>      <td>nonrobust</td>    <th>                     </th>     <td> </td>   \n",
       "</tr>\n",
       "</table>\n",
       "<table class=\"simpletable\">\n",
       "<tr>\n",
       "    <td></td>       <th>coef</th>     <th>std err</th>      <th>t</th>      <th>P>|t|</th>  <th>[0.025</th>    <th>0.975]</th>  \n",
       "</tr>\n",
       "<tr>\n",
       "  <th>const</th> <td>-1051.5943</td> <td>   22.993</td> <td>  -45.736</td> <td> 0.000</td> <td>-1096.769</td> <td>-1006.419</td>\n",
       "</tr>\n",
       "<tr>\n",
       "  <th>x1</th>    <td>   25.7343</td> <td>    0.451</td> <td>   57.057</td> <td> 0.000</td> <td>   24.848</td> <td>   26.620</td>\n",
       "</tr>\n",
       "<tr>\n",
       "  <th>x2</th>    <td>   38.7092</td> <td>    0.451</td> <td>   85.828</td> <td> 0.000</td> <td>   37.823</td> <td>   39.595</td>\n",
       "</tr>\n",
       "<tr>\n",
       "  <th>x3</th>    <td>    0.4367</td> <td>    0.444</td> <td>    0.983</td> <td> 0.326</td> <td>   -0.436</td> <td>    1.309</td>\n",
       "</tr>\n",
       "<tr>\n",
       "  <th>x4</th>    <td>   61.5773</td> <td>    0.448</td> <td>  137.346</td> <td> 0.000</td> <td>   60.696</td> <td>   62.458</td>\n",
       "</tr>\n",
       "</table>\n",
       "<table class=\"simpletable\">\n",
       "<tr>\n",
       "  <th>Omnibus:</th>       <td> 0.337</td> <th>  Durbin-Watson:     </th> <td>   1.887</td>\n",
       "</tr>\n",
       "<tr>\n",
       "  <th>Prob(Omnibus):</th> <td> 0.845</td> <th>  Jarque-Bera (JB):  </th> <td>   0.198</td>\n",
       "</tr>\n",
       "<tr>\n",
       "  <th>Skew:</th>          <td>-0.026</td> <th>  Prob(JB):          </th> <td>   0.906</td>\n",
       "</tr>\n",
       "<tr>\n",
       "  <th>Kurtosis:</th>      <td> 3.083</td> <th>  Cond. No.          </th> <td>2.64e+03</td>\n",
       "</tr>\n",
       "</table><br/><br/>Notes:<br/>[1] Standard Errors assume that the covariance matrix of the errors is correctly specified.<br/>[2] The condition number is large, 2.64e+03. This might indicate that there are<br/>strong multicollinearity or other numerical problems."
      ],
      "text/plain": [
       "<class 'statsmodels.iolib.summary.Summary'>\n",
       "\"\"\"\n",
       "                            OLS Regression Results                            \n",
       "==============================================================================\n",
       "Dep. Variable:                      y   R-squared:                       0.984\n",
       "Model:                            OLS   Adj. R-squared:                  0.984\n",
       "Method:                 Least Squares   F-statistic:                     7766.\n",
       "Date:                Tue, 25 Jun 2024   Prob (F-statistic):               0.00\n",
       "Time:                        20:23:07   Log-Likelihood:                -1856.9\n",
       "No. Observations:                 500   AIC:                             3724.\n",
       "Df Residuals:                     495   BIC:                             3745.\n",
       "Df Model:                           4                                         \n",
       "Covariance Type:            nonrobust                                         \n",
       "==============================================================================\n",
       "                 coef    std err          t      P>|t|      [0.025      0.975]\n",
       "------------------------------------------------------------------------------\n",
       "const      -1051.5943     22.993    -45.736      0.000   -1096.769   -1006.419\n",
       "x1            25.7343      0.451     57.057      0.000      24.848      26.620\n",
       "x2            38.7092      0.451     85.828      0.000      37.823      39.595\n",
       "x3             0.4367      0.444      0.983      0.326      -0.436       1.309\n",
       "x4            61.5773      0.448    137.346      0.000      60.696      62.458\n",
       "==============================================================================\n",
       "Omnibus:                        0.337   Durbin-Watson:                   1.887\n",
       "Prob(Omnibus):                  0.845   Jarque-Bera (JB):                0.198\n",
       "Skew:                          -0.026   Prob(JB):                        0.906\n",
       "Kurtosis:                       3.083   Cond. No.                     2.64e+03\n",
       "==============================================================================\n",
       "\n",
       "Notes:\n",
       "[1] Standard Errors assume that the covariance matrix of the errors is correctly specified.\n",
       "[2] The condition number is large, 2.64e+03. This might indicate that there are\n",
       "strong multicollinearity or other numerical problems.\n",
       "\"\"\""
      ]
     },
     "execution_count": 29,
     "metadata": {},
     "output_type": "execute_result"
    }
   ],
   "source": [
    "model.summary()"
   ]
  },
  {
   "cell_type": "code",
   "execution_count": 30,
   "id": "a1062dda",
   "metadata": {},
   "outputs": [
    {
     "data": {
      "text/plain": [
       "array([-1059.65179202])"
      ]
     },
     "execution_count": 30,
     "metadata": {},
     "output_type": "execute_result"
    }
   ],
   "source": [
    "lm.intercept_"
   ]
  },
  {
   "cell_type": "code",
   "execution_count": null,
   "id": "98beedf8",
   "metadata": {},
   "outputs": [],
   "source": [
    "25.658143\t38.641896\t0.706037\t61.941139"
   ]
  }
 ],
 "metadata": {
  "kernelspec": {
   "display_name": "Python 3 (ipykernel)",
   "language": "python",
   "name": "python3"
  },
  "language_info": {
   "codemirror_mode": {
    "name": "ipython",
    "version": 3
   },
   "file_extension": ".py",
   "mimetype": "text/x-python",
   "name": "python",
   "nbconvert_exporter": "python",
   "pygments_lexer": "ipython3",
   "version": "3.9.12"
  }
 },
 "nbformat": 4,
 "nbformat_minor": 5
}
