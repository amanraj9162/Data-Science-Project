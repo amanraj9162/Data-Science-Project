{
 "cells": [
  {
   "cell_type": "code",
   "execution_count": 1,
   "id": "de71e704",
   "metadata": {},
   "outputs": [],
   "source": [
    "import numpy as np \n",
    "import pandas as pd \n",
    "import matplotlib.pyplot as plt \n",
    "import seaborn as sns \n",
    "from warnings import filterwarnings\n",
    "filterwarnings('ignore')"
   ]
  },
  {
   "cell_type": "code",
   "execution_count": 3,
   "id": "9ab9821b",
   "metadata": {},
   "outputs": [],
   "source": [
    "df=pd.read_csv(\"Social_Network_Ads.csv\")"
   ]
  },
  {
   "cell_type": "code",
   "execution_count": 4,
   "id": "c9aef1b6",
   "metadata": {},
   "outputs": [
    {
     "data": {
      "text/html": [
       "<div>\n",
       "<style scoped>\n",
       "    .dataframe tbody tr th:only-of-type {\n",
       "        vertical-align: middle;\n",
       "    }\n",
       "\n",
       "    .dataframe tbody tr th {\n",
       "        vertical-align: top;\n",
       "    }\n",
       "\n",
       "    .dataframe thead th {\n",
       "        text-align: right;\n",
       "    }\n",
       "</style>\n",
       "<table border=\"1\" class=\"dataframe\">\n",
       "  <thead>\n",
       "    <tr style=\"text-align: right;\">\n",
       "      <th></th>\n",
       "      <th>User ID</th>\n",
       "      <th>Gender</th>\n",
       "      <th>Age</th>\n",
       "      <th>EstimatedSalary</th>\n",
       "      <th>Purchased</th>\n",
       "    </tr>\n",
       "  </thead>\n",
       "  <tbody>\n",
       "    <tr>\n",
       "      <th>0</th>\n",
       "      <td>15624510</td>\n",
       "      <td>Male</td>\n",
       "      <td>19</td>\n",
       "      <td>19000</td>\n",
       "      <td>0</td>\n",
       "    </tr>\n",
       "    <tr>\n",
       "      <th>1</th>\n",
       "      <td>15810944</td>\n",
       "      <td>Male</td>\n",
       "      <td>35</td>\n",
       "      <td>20000</td>\n",
       "      <td>0</td>\n",
       "    </tr>\n",
       "    <tr>\n",
       "      <th>2</th>\n",
       "      <td>15668575</td>\n",
       "      <td>Female</td>\n",
       "      <td>26</td>\n",
       "      <td>43000</td>\n",
       "      <td>0</td>\n",
       "    </tr>\n",
       "    <tr>\n",
       "      <th>3</th>\n",
       "      <td>15603246</td>\n",
       "      <td>Female</td>\n",
       "      <td>27</td>\n",
       "      <td>57000</td>\n",
       "      <td>0</td>\n",
       "    </tr>\n",
       "    <tr>\n",
       "      <th>4</th>\n",
       "      <td>15804002</td>\n",
       "      <td>Male</td>\n",
       "      <td>19</td>\n",
       "      <td>76000</td>\n",
       "      <td>0</td>\n",
       "    </tr>\n",
       "  </tbody>\n",
       "</table>\n",
       "</div>"
      ],
      "text/plain": [
       "    User ID  Gender  Age  EstimatedSalary  Purchased\n",
       "0  15624510    Male   19            19000          0\n",
       "1  15810944    Male   35            20000          0\n",
       "2  15668575  Female   26            43000          0\n",
       "3  15603246  Female   27            57000          0\n",
       "4  15804002    Male   19            76000          0"
      ]
     },
     "execution_count": 4,
     "metadata": {},
     "output_type": "execute_result"
    }
   ],
   "source": [
    "df.head()"
   ]
  },
  {
   "cell_type": "code",
   "execution_count": 5,
   "id": "7baafd42",
   "metadata": {},
   "outputs": [
    {
     "data": {
      "text/plain": [
       "User ID            0\n",
       "Gender             0\n",
       "Age                0\n",
       "EstimatedSalary    0\n",
       "Purchased          0\n",
       "dtype: int64"
      ]
     },
     "execution_count": 5,
     "metadata": {},
     "output_type": "execute_result"
    }
   ],
   "source": [
    "df.isnull().sum()"
   ]
  },
  {
   "cell_type": "code",
   "execution_count": 6,
   "id": "514d318b",
   "metadata": {},
   "outputs": [
    {
     "data": {
      "text/html": [
       "<div>\n",
       "<style scoped>\n",
       "    .dataframe tbody tr th:only-of-type {\n",
       "        vertical-align: middle;\n",
       "    }\n",
       "\n",
       "    .dataframe tbody tr th {\n",
       "        vertical-align: top;\n",
       "    }\n",
       "\n",
       "    .dataframe thead th {\n",
       "        text-align: right;\n",
       "    }\n",
       "</style>\n",
       "<table border=\"1\" class=\"dataframe\">\n",
       "  <thead>\n",
       "    <tr style=\"text-align: right;\">\n",
       "      <th></th>\n",
       "      <th>User ID</th>\n",
       "      <th>Gender</th>\n",
       "      <th>Age</th>\n",
       "      <th>EstimatedSalary</th>\n",
       "      <th>Purchased</th>\n",
       "    </tr>\n",
       "  </thead>\n",
       "  <tbody>\n",
       "    <tr>\n",
       "      <th>208</th>\n",
       "      <td>15800890</td>\n",
       "      <td>Female</td>\n",
       "      <td>40</td>\n",
       "      <td>142000</td>\n",
       "      <td>1</td>\n",
       "    </tr>\n",
       "  </tbody>\n",
       "</table>\n",
       "</div>"
      ],
      "text/plain": [
       "      User ID  Gender  Age  EstimatedSalary  Purchased\n",
       "208  15800890  Female   40           142000          1"
      ]
     },
     "execution_count": 6,
     "metadata": {},
     "output_type": "execute_result"
    }
   ],
   "source": [
    "df.sample()"
   ]
  },
  {
   "cell_type": "code",
   "execution_count": 10,
   "id": "79351378",
   "metadata": {},
   "outputs": [
    {
     "data": {
      "image/png": "[encoded data removed]",
      "text/plain": [
       "<Figure size 640x480 with 1 Axes>"
      ]
     },
     "metadata": {},
     "output_type": "display_data"
    }
   ],
   "source": [
    "sns.countplot(x='Purchased',data=df)\n",
    "plt.show()"
   ]
  },
  {
   "cell_type": "code",
   "execution_count": 11,
   "id": "16c8dbd5",
   "metadata": {},
   "outputs": [
    {
     "data": {
      "text/plain": [
       "<Axes: xlabel='Purchased', ylabel='count'>"
      ]
     },
     "execution_count": 11,
     "metadata": {},
     "output_type": "execute_result"
    },
    {
     "data": {
      "image/png": "[encoded data removed]",
      "text/plain": [
       "<Figure size 640x480 with 1 Axes>"
      ]
     },
     "metadata": {},
     "output_type": "display_data"
    }
   ],
   "source": [
    "sns.countplot(x='Purchased', hue='Gender', data=df)"
   ]
  },
  {
   "cell_type": "code",
   "execution_count": 12,
   "id": "f0c94b03",
   "metadata": {},
   "outputs": [
    {
     "data": {
      "text/plain": [
       "<seaborn.axisgrid.FacetGrid at 0x2a411e4be50>"
      ]
     },
     "execution_count": 12,
     "metadata": {},
     "output_type": "execute_result"
    },
    {
     "data": {
      "image/png": "[encoded data removed]",
      "text/plain": [
       "<Figure size 500x500 with 1 Axes>"
      ]
     },
     "metadata": {},
     "output_type": "display_data"
    }
   ],
   "source": [
    "sns.displot(x='Age', data=df, color='red', kde=True)"
   ]
  },
  {
   "cell_type": "code",
   "execution_count": 16,
   "id": "c6479445",
   "metadata": {},
   "outputs": [
    {
     "ename": "KeyError",
     "evalue": "\"['User ID'] not found in axis\"",
     "output_type": "error",
     "traceback": [
      "\u001b[1;31m---------------------------------------------------------------------------\u001b[0m",
      "\u001b[1;31mKeyError\u001b[0m                                  Traceback (most recent call last)",
      "Cell \u001b[1;32mIn[16], line 1\u001b[0m\n\u001b[1;32m----> 1\u001b[0m df\u001b[38;5;241m.\u001b[39mdrop(\u001b[38;5;124m'\u001b[39m\u001b[38;5;124mUser ID\u001b[39m\u001b[38;5;124m'\u001b[39m, axis\u001b[38;5;241m=\u001b[39m\u001b[38;5;241m1\u001b[39m, inplace\u001b[38;5;241m=\u001b[39m\u001b[38;5;28;01mTrue\u001b[39;00m)\n",
      "File \u001b[1;32m~\\anaconda3\\Lib\\site-packages\\pandas\\util\\_decorators.py:331\u001b[0m, in \u001b[0;36mdeprecate_nonkeyword_arguments.<locals>.decorate.<locals>.wrapper\u001b[1;34m(*args, **kwargs)\u001b[0m\n\u001b[0;32m    325\u001b[0m \u001b[38;5;28;01mif\u001b[39;00m \u001b[38;5;28mlen\u001b[39m(args) \u001b[38;5;241m>\u001b[39m num_allow_args:\n\u001b[0;32m    326\u001b[0m     warnings\u001b[38;5;241m.\u001b[39mwarn(\n\u001b[0;32m    327\u001b[0m         msg\u001b[38;5;241m.\u001b[39mformat(arguments\u001b[38;5;241m=\u001b[39m_format_argument_list(allow_args)),\n\u001b[0;32m    328\u001b[0m         \u001b[38;5;167;01mFutureWarning\u001b[39;00m,\n\u001b[0;32m    329\u001b[0m         stacklevel\u001b[38;5;241m=\u001b[39mfind_stack_level(),\n\u001b[0;32m    330\u001b[0m     )\n\u001b[1;32m--> 331\u001b[0m \u001b[38;5;28;01mreturn\u001b[39;00m func(\u001b[38;5;241m*\u001b[39margs, \u001b[38;5;241m*\u001b[39m\u001b[38;5;241m*\u001b[39mkwargs)\n",
      "File \u001b[1;32m~\\anaconda3\\Lib\\site-packages\\pandas\\core\\frame.py:5399\u001b[0m, in \u001b[0;36mDataFrame.drop\u001b[1;34m(self, labels, axis, index, columns, level, inplace, errors)\u001b[0m\n\u001b[0;32m   5251\u001b[0m \u001b[38;5;129m@deprecate_nonkeyword_arguments\u001b[39m(version\u001b[38;5;241m=\u001b[39m\u001b[38;5;28;01mNone\u001b[39;00m, allowed_args\u001b[38;5;241m=\u001b[39m[\u001b[38;5;124m\"\u001b[39m\u001b[38;5;124mself\u001b[39m\u001b[38;5;124m\"\u001b[39m, \u001b[38;5;124m\"\u001b[39m\u001b[38;5;124mlabels\u001b[39m\u001b[38;5;124m\"\u001b[39m])\n\u001b[0;32m   5252\u001b[0m \u001b[38;5;28;01mdef\u001b[39;00m \u001b[38;5;21mdrop\u001b[39m(  \u001b[38;5;66;03m# type: ignore[override]\u001b[39;00m\n\u001b[0;32m   5253\u001b[0m     \u001b[38;5;28mself\u001b[39m,\n\u001b[1;32m   (...)\u001b[0m\n\u001b[0;32m   5260\u001b[0m     errors: IgnoreRaise \u001b[38;5;241m=\u001b[39m \u001b[38;5;124m\"\u001b[39m\u001b[38;5;124mraise\u001b[39m\u001b[38;5;124m\"\u001b[39m,\n\u001b[0;32m   5261\u001b[0m ) \u001b[38;5;241m-\u001b[39m\u001b[38;5;241m>\u001b[39m DataFrame \u001b[38;5;241m|\u001b[39m \u001b[38;5;28;01mNone\u001b[39;00m:\n\u001b[0;32m   5262\u001b[0m \u001b[38;5;250m    \u001b[39m\u001b[38;5;124;03m\"\"\"\u001b[39;00m\n\u001b[0;32m   5263\u001b[0m \u001b[38;5;124;03m    Drop specified labels from rows or columns.\u001b[39;00m\n\u001b[0;32m   5264\u001b[0m \n\u001b[1;32m   (...)\u001b[0m\n\u001b[0;32m   5397\u001b[0m \u001b[38;5;124;03m            weight  1.0     0.8\u001b[39;00m\n\u001b[0;32m   5398\u001b[0m \u001b[38;5;124;03m    \"\"\"\u001b[39;00m\n\u001b[1;32m-> 5399\u001b[0m     \u001b[38;5;28;01mreturn\u001b[39;00m \u001b[38;5;28msuper\u001b[39m()\u001b[38;5;241m.\u001b[39mdrop(\n\u001b[0;32m   5400\u001b[0m         labels\u001b[38;5;241m=\u001b[39mlabels,\n\u001b[0;32m   5401\u001b[0m         axis\u001b[38;5;241m=\u001b[39maxis,\n\u001b[0;32m   5402\u001b[0m         index\u001b[38;5;241m=\u001b[39mindex,\n\u001b[0;32m   5403\u001b[0m         columns\u001b[38;5;241m=\u001b[39mcolumns,\n\u001b[0;32m   5404\u001b[0m         level\u001b[38;5;241m=\u001b[39mlevel,\n\u001b[0;32m   5405\u001b[0m         inplace\u001b[38;5;241m=\u001b[39minplace,\n\u001b[0;32m   5406\u001b[0m         errors\u001b[38;5;241m=\u001b[39merrors,\n\u001b[0;32m   5407\u001b[0m     )\n",
      "File \u001b[1;32m~\\anaconda3\\Lib\\site-packages\\pandas\\util\\_decorators.py:331\u001b[0m, in \u001b[0;36mdeprecate_nonkeyword_arguments.<locals>.decorate.<locals>.wrapper\u001b[1;34m(*args, **kwargs)\u001b[0m\n\u001b[0;32m    325\u001b[0m \u001b[38;5;28;01mif\u001b[39;00m \u001b[38;5;28mlen\u001b[39m(args) \u001b[38;5;241m>\u001b[39m num_allow_args:\n\u001b[0;32m    326\u001b[0m     warnings\u001b[38;5;241m.\u001b[39mwarn(\n\u001b[0;32m    327\u001b[0m         msg\u001b[38;5;241m.\u001b[39mformat(arguments\u001b[38;5;241m=\u001b[39m_format_argument_list(allow_args)),\n\u001b[0;32m    328\u001b[0m         \u001b[38;5;167;01mFutureWarning\u001b[39;00m,\n\u001b[0;32m    329\u001b[0m         stacklevel\u001b[38;5;241m=\u001b[39mfind_stack_level(),\n\u001b[0;32m    330\u001b[0m     )\n\u001b[1;32m--> 331\u001b[0m \u001b[38;5;28;01mreturn\u001b[39;00m func(\u001b[38;5;241m*\u001b[39margs, \u001b[38;5;241m*\u001b[39m\u001b[38;5;241m*\u001b[39mkwargs)\n",
      "File \u001b[1;32m~\\anaconda3\\Lib\\site-packages\\pandas\\core\\generic.py:4505\u001b[0m, in \u001b[0;36mNDFrame.drop\u001b[1;34m(self, labels, axis, index, columns, level, inplace, errors)\u001b[0m\n\u001b[0;32m   4503\u001b[0m \u001b[38;5;28;01mfor\u001b[39;00m axis, labels \u001b[38;5;129;01min\u001b[39;00m axes\u001b[38;5;241m.\u001b[39mitems():\n\u001b[0;32m   4504\u001b[0m     \u001b[38;5;28;01mif\u001b[39;00m labels \u001b[38;5;129;01mis\u001b[39;00m \u001b[38;5;129;01mnot\u001b[39;00m \u001b[38;5;28;01mNone\u001b[39;00m:\n\u001b[1;32m-> 4505\u001b[0m         obj \u001b[38;5;241m=\u001b[39m obj\u001b[38;5;241m.\u001b[39m_drop_axis(labels, axis, level\u001b[38;5;241m=\u001b[39mlevel, errors\u001b[38;5;241m=\u001b[39merrors)\n\u001b[0;32m   4507\u001b[0m \u001b[38;5;28;01mif\u001b[39;00m inplace:\n\u001b[0;32m   4508\u001b[0m     \u001b[38;5;28mself\u001b[39m\u001b[38;5;241m.\u001b[39m_update_inplace(obj)\n",
      "File \u001b[1;32m~\\anaconda3\\Lib\\site-packages\\pandas\\core\\generic.py:4546\u001b[0m, in \u001b[0;36mNDFrame._drop_axis\u001b[1;34m(self, labels, axis, level, errors, only_slice)\u001b[0m\n\u001b[0;32m   4544\u001b[0m         new_axis \u001b[38;5;241m=\u001b[39m axis\u001b[38;5;241m.\u001b[39mdrop(labels, level\u001b[38;5;241m=\u001b[39mlevel, errors\u001b[38;5;241m=\u001b[39merrors)\n\u001b[0;32m   4545\u001b[0m     \u001b[38;5;28;01melse\u001b[39;00m:\n\u001b[1;32m-> 4546\u001b[0m         new_axis \u001b[38;5;241m=\u001b[39m axis\u001b[38;5;241m.\u001b[39mdrop(labels, errors\u001b[38;5;241m=\u001b[39merrors)\n\u001b[0;32m   4547\u001b[0m     indexer \u001b[38;5;241m=\u001b[39m axis\u001b[38;5;241m.\u001b[39mget_indexer(new_axis)\n\u001b[0;32m   4549\u001b[0m \u001b[38;5;66;03m# Case for non-unique axis\u001b[39;00m\n\u001b[0;32m   4550\u001b[0m \u001b[38;5;28;01melse\u001b[39;00m:\n",
      "File \u001b[1;32m~\\anaconda3\\Lib\\site-packages\\pandas\\core\\indexes\\base.py:6934\u001b[0m, in \u001b[0;36mIndex.drop\u001b[1;34m(self, labels, errors)\u001b[0m\n\u001b[0;32m   6932\u001b[0m \u001b[38;5;28;01mif\u001b[39;00m mask\u001b[38;5;241m.\u001b[39many():\n\u001b[0;32m   6933\u001b[0m     \u001b[38;5;28;01mif\u001b[39;00m errors \u001b[38;5;241m!=\u001b[39m \u001b[38;5;124m\"\u001b[39m\u001b[38;5;124mignore\u001b[39m\u001b[38;5;124m\"\u001b[39m:\n\u001b[1;32m-> 6934\u001b[0m         \u001b[38;5;28;01mraise\u001b[39;00m \u001b[38;5;167;01mKeyError\u001b[39;00m(\u001b[38;5;124mf\u001b[39m\u001b[38;5;124m\"\u001b[39m\u001b[38;5;132;01m{\u001b[39;00m\u001b[38;5;28mlist\u001b[39m(labels[mask])\u001b[38;5;132;01m}\u001b[39;00m\u001b[38;5;124m not found in axis\u001b[39m\u001b[38;5;124m\"\u001b[39m)\n\u001b[0;32m   6935\u001b[0m     indexer \u001b[38;5;241m=\u001b[39m indexer[\u001b[38;5;241m~\u001b[39mmask]\n\u001b[0;32m   6936\u001b[0m \u001b[38;5;28;01mreturn\u001b[39;00m \u001b[38;5;28mself\u001b[39m\u001b[38;5;241m.\u001b[39mdelete(indexer)\n",
      "\u001b[1;31mKeyError\u001b[0m: \"['User ID'] not found in axis\""
     ]
    }
   ],
   "source": [
    "df.drop('User ID', axis=1, inplace=True)"
   ]
  },
  {
   "cell_type": "code",
   "execution_count": 17,
   "id": "953fd6df",
   "metadata": {},
   "outputs": [
    {
     "data": {
      "text/html": [
       "<div>\n",
       "<style scoped>\n",
       "    .dataframe tbody tr th:only-of-type {\n",
       "        vertical-align: middle;\n",
       "    }\n",
       "\n",
       "    .dataframe tbody tr th {\n",
       "        vertical-align: top;\n",
       "    }\n",
       "\n",
       "    .dataframe thead th {\n",
       "        text-align: right;\n",
       "    }\n",
       "</style>\n",
       "<table border=\"1\" class=\"dataframe\">\n",
       "  <thead>\n",
       "    <tr style=\"text-align: right;\">\n",
       "      <th></th>\n",
       "      <th>Gender</th>\n",
       "      <th>Age</th>\n",
       "      <th>EstimatedSalary</th>\n",
       "      <th>Purchased</th>\n",
       "    </tr>\n",
       "  </thead>\n",
       "  <tbody>\n",
       "    <tr>\n",
       "      <th>0</th>\n",
       "      <td>Male</td>\n",
       "      <td>19</td>\n",
       "      <td>19000</td>\n",
       "      <td>0</td>\n",
       "    </tr>\n",
       "    <tr>\n",
       "      <th>1</th>\n",
       "      <td>Male</td>\n",
       "      <td>35</td>\n",
       "      <td>20000</td>\n",
       "      <td>0</td>\n",
       "    </tr>\n",
       "    <tr>\n",
       "      <th>2</th>\n",
       "      <td>Female</td>\n",
       "      <td>26</td>\n",
       "      <td>43000</td>\n",
       "      <td>0</td>\n",
       "    </tr>\n",
       "    <tr>\n",
       "      <th>3</th>\n",
       "      <td>Female</td>\n",
       "      <td>27</td>\n",
       "      <td>57000</td>\n",
       "      <td>0</td>\n",
       "    </tr>\n",
       "    <tr>\n",
       "      <th>4</th>\n",
       "      <td>Male</td>\n",
       "      <td>19</td>\n",
       "      <td>76000</td>\n",
       "      <td>0</td>\n",
       "    </tr>\n",
       "  </tbody>\n",
       "</table>\n",
       "</div>"
      ],
      "text/plain": [
       "   Gender  Age  EstimatedSalary  Purchased\n",
       "0    Male   19            19000          0\n",
       "1    Male   35            20000          0\n",
       "2  Female   26            43000          0\n",
       "3  Female   27            57000          0\n",
       "4    Male   19            76000          0"
      ]
     },
     "execution_count": 17,
     "metadata": {},
     "output_type": "execute_result"
    }
   ],
   "source": [
    "df.head()"
   ]
  },
  {
   "cell_type": "code",
   "execution_count": 21,
   "id": "23aeee8b",
   "metadata": {},
   "outputs": [
    {
     "data": {
      "text/plain": [
       "Gender             object\n",
       "Age                 int64\n",
       "EstimatedSalary     int64\n",
       "Purchased           int64\n",
       "dtype: object"
      ]
     },
     "execution_count": 21,
     "metadata": {},
     "output_type": "execute_result"
    }
   ],
   "source": [
    "df.dtypes"
   ]
  },
  {
   "cell_type": "code",
   "execution_count": 22,
   "id": "cd0ac233",
   "metadata": {},
   "outputs": [],
   "source": [
    "gender = pd.get_dummies(df['Gender'], drop_first=True)"
   ]
  },
  {
   "cell_type": "code",
   "execution_count": 24,
   "id": "c5211f90",
   "metadata": {},
   "outputs": [
    {
     "name": "stdout",
     "output_type": "stream",
     "text": [
      "     Male\n",
      "0       1\n",
      "1       1\n",
      "2       0\n",
      "3       0\n",
      "4       1\n",
      "..    ...\n",
      "395     0\n",
      "396     1\n",
      "397     0\n",
      "398     1\n",
      "399     0\n",
      "\n",
      "[400 rows x 1 columns]\n"
     ]
    }
   ],
   "source": [
    "print(gender)"
   ]
  },
  {
   "cell_type": "code",
   "execution_count": 25,
   "id": "6ba8c8e8",
   "metadata": {},
   "outputs": [],
   "source": [
    "df.drop('Gender',axis=1,inplace=True)"
   ]
  },
  {
   "cell_type": "code",
   "execution_count": 26,
   "id": "e5e309da",
   "metadata": {},
   "outputs": [],
   "source": [
    "df = pd.concat([df,gender], axis=1)"
   ]
  },
  {
   "cell_type": "code",
   "execution_count": 27,
   "id": "5f821e64",
   "metadata": {},
   "outputs": [
    {
     "data": {
      "text/html": [
       "<div>\n",
       "<style scoped>\n",
       "    .dataframe tbody tr th:only-of-type {\n",
       "        vertical-align: middle;\n",
       "    }\n",
       "\n",
       "    .dataframe tbody tr th {\n",
       "        vertical-align: top;\n",
       "    }\n",
       "\n",
       "    .dataframe thead th {\n",
       "        text-align: right;\n",
       "    }\n",
       "</style>\n",
       "<table border=\"1\" class=\"dataframe\">\n",
       "  <thead>\n",
       "    <tr style=\"text-align: right;\">\n",
       "      <th></th>\n",
       "      <th>Age</th>\n",
       "      <th>EstimatedSalary</th>\n",
       "      <th>Purchased</th>\n",
       "      <th>Male</th>\n",
       "    </tr>\n",
       "  </thead>\n",
       "  <tbody>\n",
       "    <tr>\n",
       "      <th>0</th>\n",
       "      <td>19</td>\n",
       "      <td>19000</td>\n",
       "      <td>0</td>\n",
       "      <td>1</td>\n",
       "    </tr>\n",
       "    <tr>\n",
       "      <th>1</th>\n",
       "      <td>35</td>\n",
       "      <td>20000</td>\n",
       "      <td>0</td>\n",
       "      <td>1</td>\n",
       "    </tr>\n",
       "    <tr>\n",
       "      <th>2</th>\n",
       "      <td>26</td>\n",
       "      <td>43000</td>\n",
       "      <td>0</td>\n",
       "      <td>0</td>\n",
       "    </tr>\n",
       "    <tr>\n",
       "      <th>3</th>\n",
       "      <td>27</td>\n",
       "      <td>57000</td>\n",
       "      <td>0</td>\n",
       "      <td>0</td>\n",
       "    </tr>\n",
       "    <tr>\n",
       "      <th>4</th>\n",
       "      <td>19</td>\n",
       "      <td>76000</td>\n",
       "      <td>0</td>\n",
       "      <td>1</td>\n",
       "    </tr>\n",
       "  </tbody>\n",
       "</table>\n",
       "</div>"
      ],
      "text/plain": [
       "   Age  EstimatedSalary  Purchased  Male\n",
       "0   19            19000          0     1\n",
       "1   35            20000          0     1\n",
       "2   26            43000          0     0\n",
       "3   27            57000          0     0\n",
       "4   19            76000          0     1"
      ]
     },
     "execution_count": 27,
     "metadata": {},
     "output_type": "execute_result"
    }
   ],
   "source": [
    "df.head()"
   ]
  },
  {
   "cell_type": "code",
   "execution_count": 28,
   "id": "c4cca002",
   "metadata": {},
   "outputs": [],
   "source": [
    "X = df.iloc[:,[0,1,3]] # Age, EstimatedSalary and MaleX.head()"
   ]
  },
  {
   "cell_type": "code",
   "execution_count": 29,
   "id": "d7293355",
   "metadata": {},
   "outputs": [],
   "source": [
    "y = df.iloc[:, 2] # Purchased"
   ]
  },
  {
   "cell_type": "code",
   "execution_count": 35,
   "id": "2aa58ce5",
   "metadata": {},
   "outputs": [
    {
     "data": {
      "text/plain": [
       "array([[-1.78179743, -1.49004624,  1.02020406],\n",
       "       [-0.25358736, -1.46068138,  1.02020406],\n",
       "       [-1.11320552, -0.78528968, -0.98019606],\n",
       "       ...,\n",
       "       [ 1.17910958, -1.46068138, -0.98019606],\n",
       "       [-0.15807423, -1.07893824,  1.02020406],\n",
       "       [ 1.08359645, -0.99084367, -0.98019606]])"
      ]
     },
     "execution_count": 35,
     "metadata": {},
     "output_type": "execute_result"
    }
   ],
   "source": [
    "\n",
    "from sklearn.preprocessing import StandardScaler\n",
    "sc = StandardScaler()\n",
    "X = sc.fit_transform(X)\n",
    "X"
   ]
  },
  {
   "cell_type": "code",
   "execution_count": 36,
   "id": "7824dc4b",
   "metadata": {},
   "outputs": [
    {
     "name": "stdout",
     "output_type": "stream",
     "text": [
      "(280, 3)\n",
      "(120, 3)\n",
      "(280,)\n",
      "(120,)\n"
     ]
    }
   ],
   "source": [
    "from sklearn.model_selection import train_test_split \n",
    "X_train, X_test, y_train, y_test = train_test_split(X, y, test_size=0.30, random_state=1)\n",
    "print(X_train.shape)\n",
    "print(X_test.shape)\n",
    "print(y_train.shape)\n",
    "print(y_test.shape)\n"
   ]
  },
  {
   "cell_type": "code",
   "execution_count": 37,
   "id": "da73025a",
   "metadata": {},
   "outputs": [
    {
     "data": {
      "text/html": [
       "<style>#sk-container-id-1 {color: black;}#sk-container-id-1 pre{padding: 0;}#sk-container-id-1 div.sk-toggleable {background-color: white;}#sk-container-id-1 label.sk-toggleable__label {cursor: pointer;display: block;width: 100%;margin-bottom: 0;padding: 0.3em;box-sizing: border-box;text-align: center;}#sk-container-id-1 label.sk-toggleable__label-arrow:before {content: \"▸\";float: left;margin-right: 0.25em;color: #696969;}#sk-container-id-1 label.sk-toggleable__label-arrow:hover:before {color: black;}#sk-container-id-1 div.sk-estimator:hover label.sk-toggleable__label-arrow:before {color: black;}#sk-container-id-1 div.sk-toggleable__content {max-height: 0;max-width: 0;overflow: hidden;text-align: left;background-color: #f0f8ff;}#sk-container-id-1 div.sk-toggleable__content pre {margin: 0.2em;color: black;border-radius: 0.25em;background-color: #f0f8ff;}#sk-container-id-1 input.sk-toggleable__control:checked~div.sk-toggleable__content {max-height: 200px;max-width: 100%;overflow: auto;}#sk-container-id-1 input.sk-toggleable__control:checked~label.sk-toggleable__label-arrow:before {content: \"▾\";}#sk-container-id-1 div.sk-estimator input.sk-toggleable__control:checked~label.sk-toggleable__label {background-color: #d4ebff;}#sk-container-id-1 div.sk-label input.sk-toggleable__control:checked~label.sk-toggleable__label {background-color: #d4ebff;}#sk-container-id-1 input.sk-hidden--visually {border: 0;clip: rect(1px 1px 1px 1px);clip: rect(1px, 1px, 1px, 1px);height: 1px;margin: -1px;overflow: hidden;padding: 0;position: absolute;width: 1px;}#sk-container-id-1 div.sk-estimator {font-family: monospace;background-color: #f0f8ff;border: 1px dotted black;border-radius: 0.25em;box-sizing: border-box;margin-bottom: 0.5em;}#sk-container-id-1 div.sk-estimator:hover {background-color: #d4ebff;}#sk-container-id-1 div.sk-parallel-item::after {content: \"\";width: 100%;border-bottom: 1px solid gray;flex-grow: 1;}#sk-container-id-1 div.sk-label:hover label.sk-toggleable__label {background-color: #d4ebff;}#sk-container-id-1 div.sk-serial::before {content: \"\";position: absolute;border-left: 1px solid gray;box-sizing: border-box;top: 0;bottom: 0;left: 50%;z-index: 0;}#sk-container-id-1 div.sk-serial {display: flex;flex-direction: column;align-items: center;background-color: white;padding-right: 0.2em;padding-left: 0.2em;position: relative;}#sk-container-id-1 div.sk-item {position: relative;z-index: 1;}#sk-container-id-1 div.sk-parallel {display: flex;align-items: stretch;justify-content: center;background-color: white;position: relative;}#sk-container-id-1 div.sk-item::before, #sk-container-id-1 div.sk-parallel-item::before {content: \"\";position: absolute;border-left: 1px solid gray;box-sizing: border-box;top: 0;bottom: 0;left: 50%;z-index: -1;}#sk-container-id-1 div.sk-parallel-item {display: flex;flex-direction: column;z-index: 1;position: relative;background-color: white;}#sk-container-id-1 div.sk-parallel-item:first-child::after {align-self: flex-end;width: 50%;}#sk-container-id-1 div.sk-parallel-item:last-child::after {align-self: flex-start;width: 50%;}#sk-container-id-1 div.sk-parallel-item:only-child::after {width: 0;}#sk-container-id-1 div.sk-dashed-wrapped {border: 1px dashed gray;margin: 0 0.4em 0.5em 0.4em;box-sizing: border-box;padding-bottom: 0.4em;background-color: white;}#sk-container-id-1 div.sk-label label {font-family: monospace;font-weight: bold;display: inline-block;line-height: 1.2em;}#sk-container-id-1 div.sk-label-container {text-align: center;}#sk-container-id-1 div.sk-container {/* jupyter's `normalize.less` sets `[hidden] { display: none; }` but bootstrap.min.css set `[hidden] { display: none !important; }` so we also need the `!important` here to be able to override the default hidden behavior on the sphinx rendered scikit-learn.org. See: https://github.com/scikit-learn/scikit-learn/issues/21755 */display: inline-block !important;position: relative;}#sk-container-id-1 div.sk-text-repr-fallback {display: none;}</style><div id=\"sk-container-id-1\" class=\"sk-top-container\"><div class=\"sk-text-repr-fallback\"><pre>LogisticRegression()</pre><b>In a Jupyter environment, please rerun this cell to show the HTML representation or trust the notebook. <br />On GitHub, the HTML representation is unable to render, please try loading this page with nbviewer.org.</b></div><div class=\"sk-container\" hidden><div class=\"sk-item\"><div class=\"sk-estimator sk-toggleable\"><input class=\"sk-toggleable__control sk-hidden--visually\" id=\"sk-estimator-id-1\" type=\"checkbox\" checked><label for=\"sk-estimator-id-1\" class=\"sk-toggleable__label sk-toggleable__label-arrow\">LogisticRegression</label><div class=\"sk-toggleable__content\"><pre>LogisticRegression()</pre></div></div></div></div></div>"
      ],
      "text/plain": [
       "LogisticRegression()"
      ]
     },
     "execution_count": 37,
     "metadata": {},
     "output_type": "execute_result"
    }
   ],
   "source": [
    "from sklearn.linear_model import LogisticRegression  \n",
    "classifier = LogisticRegression()\n",
    "classifier.fit(X_train, y_train)"
   ]
  },
  {
   "cell_type": "code",
   "execution_count": 38,
   "id": "12e46541",
   "metadata": {},
   "outputs": [],
   "source": [
    "y_pred = classifier.predict(X_test)"
   ]
  },
  {
   "cell_type": "code",
   "execution_count": 39,
   "id": "b7a58f3e",
   "metadata": {},
   "outputs": [
    {
     "data": {
      "text/plain": [
       "array([[2.36839196, 1.42929561, 0.20973787]])"
      ]
     },
     "execution_count": 39,
     "metadata": {},
     "output_type": "execute_result"
    }
   ],
   "source": [
    "classifier.coef_ # array([[2.36839196, 1.42929561, 0.20973787]])classifier.intercept_ # array([-1.1352347])"
   ]
  },
  {
   "cell_type": "code",
   "execution_count": 40,
   "id": "76288bcd",
   "metadata": {},
   "outputs": [
    {
     "name": "stdout",
     "output_type": "stream",
     "text": [
      "[[9.99305047e-01 6.94953436e-04]\n",
      " [9.73650395e-01 2.63496050e-02]\n",
      " [9.93938614e-01 6.06138563e-03]\n",
      " [9.86425967e-01 1.35740330e-02]\n",
      " [9.92449933e-01 7.55006749e-03]\n",
      " [9.78634880e-01 2.13651200e-02]\n",
      " [9.59015410e-01 4.09845897e-02]\n",
      " [3.21160956e-01 6.78839044e-01]\n",
      " [9.95160538e-01 4.83946203e-03]\n",
      " [8.94774017e-01 1.05225983e-01]\n",
      " [9.71990649e-01 2.80093506e-02]\n",
      " [9.91181077e-01 8.81892308e-03]\n",
      " [9.85694423e-01 1.43055770e-02]\n",
      " [9.87533664e-01 1.24663357e-02]\n",
      " [9.92255565e-01 7.74443464e-03]\n",
      " [9.20459783e-01 7.95402167e-02]\n",
      " [6.64896819e-01 3.35103181e-01]\n",
      " [7.49443667e-01 2.50556333e-01]\n",
      " [6.86862714e-01 3.13137286e-01]\n",
      " [6.70546154e-01 3.29453846e-01]\n",
      " [7.79633457e-01 2.20366543e-01]\n",
      " [5.24342635e-01 4.75657365e-01]\n",
      " [4.47060141e-01 5.52939859e-01]\n",
      " [8.43313433e-01 1.56686567e-01]\n",
      " [7.30142964e-01 2.69857036e-01]\n",
      " [7.09930944e-01 2.90069056e-01]\n",
      " [5.26688397e-01 4.73311603e-01]\n",
      " [7.09899857e-01 2.90100143e-01]\n",
      " [9.82040967e-01 1.79590333e-02]\n",
      " [9.90032335e-01 9.96766502e-03]\n",
      " [9.04478904e-01 9.55210964e-02]\n",
      " [7.16719057e-01 2.83280943e-01]\n",
      " [9.99366754e-01 6.33245900e-04]\n",
      " [9.90100683e-01 9.89931667e-03]\n",
      " [9.22822219e-01 7.71777814e-02]\n",
      " [9.64966938e-01 3.50330621e-02]\n",
      " [9.84416175e-01 1.55838249e-02]\n",
      " [9.71349095e-01 2.86509049e-02]\n",
      " [9.79818011e-01 2.01819893e-02]\n",
      " [9.95400407e-01 4.59959315e-03]\n",
      " [9.97438946e-01 2.56105394e-03]\n",
      " [9.60093093e-01 3.99069066e-02]\n",
      " [4.79048696e-01 5.20951304e-01]\n",
      " [9.92970022e-01 7.02997758e-03]\n",
      " [9.49140914e-01 5.08590862e-02]\n",
      " [9.98210717e-01 1.78928312e-03]\n",
      " [9.67561460e-01 3.24385403e-02]\n",
      " [9.88012641e-01 1.19873588e-02]\n",
      " [4.78510667e-01 5.21489333e-01]\n",
      " [8.84730029e-01 1.15269971e-01]\n",
      " [9.97561288e-01 2.43871155e-03]\n",
      " [9.98959971e-01 1.04002893e-03]\n",
      " [9.39474563e-01 6.05254374e-02]\n",
      " [9.80222710e-01 1.97772901e-02]\n",
      " [9.85852357e-01 1.41476427e-02]\n",
      " [9.93622045e-01 6.37795522e-03]\n",
      " [9.96198381e-01 3.80161932e-03]\n",
      " [9.38010384e-01 6.19896160e-02]\n",
      " [9.98687232e-01 1.31276769e-03]\n",
      " [6.53985245e-01 3.46014755e-01]\n",
      " [9.95589290e-01 4.41070957e-03]\n",
      " [9.55197887e-01 4.48021128e-02]\n",
      " [9.91942327e-01 8.05767262e-03]\n",
      " [5.22766880e-01 4.77233120e-01]\n",
      " [1.72233000e-02 9.82776700e-01]\n",
      " [9.89046004e-01 1.09539961e-02]\n",
      " [9.97849512e-01 2.15048757e-03]\n",
      " [9.84349886e-01 1.56501135e-02]\n",
      " [9.94320328e-01 5.67967207e-03]\n",
      " [9.48797055e-01 5.12029453e-02]\n",
      " [9.66217977e-01 3.37820232e-02]\n",
      " [9.98022020e-01 1.97798034e-03]\n",
      " [9.99322507e-01 6.77493145e-04]\n",
      " [6.40670407e-01 3.59329593e-01]\n",
      " [9.87533664e-01 1.24663357e-02]\n",
      " [4.93618838e-01 5.06381162e-01]\n",
      " [9.97789091e-01 2.21090929e-03]\n",
      " [9.98740933e-01 1.25906743e-03]\n",
      " [9.42707444e-01 5.72925556e-02]\n",
      " [9.97956375e-01 2.04362454e-03]\n",
      " [9.02242906e-01 9.77570935e-02]\n",
      " [8.55867872e-01 1.44132128e-01]\n",
      " [9.96938018e-01 3.06198203e-03]\n",
      " [6.80390486e-01 3.19609514e-01]\n",
      " [9.67624332e-01 3.23756684e-02]\n",
      " [6.94415646e-01 3.05584354e-01]\n",
      " [9.90329423e-01 9.67057665e-03]\n",
      " [9.47076251e-01 5.29237494e-02]\n",
      " [9.56281337e-01 4.37186633e-02]\n",
      " [9.12971356e-01 8.70286442e-02]\n",
      " [9.81838577e-01 1.81614231e-02]\n",
      " [7.56023304e-01 2.43976696e-01]\n",
      " [9.97143698e-01 2.85630212e-03]\n",
      " [9.93635693e-01 6.36430659e-03]\n",
      " [9.39474563e-01 6.05254374e-02]\n",
      " [9.53551675e-01 4.64483250e-02]\n",
      " [9.78528078e-01 2.14719217e-02]\n",
      " [7.04759736e-01 2.95240264e-01]\n",
      " [7.99814086e-01 2.00185914e-01]\n",
      " [9.92602134e-01 7.39786602e-03]\n",
      " [9.28592501e-01 7.14074986e-02]\n",
      " [9.72245635e-01 2.77543653e-02]\n",
      " [8.74099935e-01 1.25900065e-01]\n",
      " [2.82380689e-01 7.17619311e-01]\n",
      " [9.99503082e-01 4.96918221e-04]\n",
      " [9.89989693e-01 1.00103072e-02]\n",
      " [9.95659888e-01 4.34011226e-03]\n",
      " [9.25758909e-01 7.42410913e-02]\n",
      " [9.46617987e-01 5.33820131e-02]\n",
      " [6.96832044e-01 3.03167956e-01]\n",
      " [7.27858491e-01 2.72141509e-01]\n",
      " [8.07866988e-01 1.92133012e-01]\n",
      " [7.70325126e-01 2.29674874e-01]\n",
      " [8.43985563e-01 1.56014437e-01]\n",
      " [3.79386669e-01 6.20613331e-01]\n",
      " [7.16183219e-01 2.83816781e-01]\n",
      " [7.86035305e-01 2.13964695e-01]\n",
      " [8.84965090e-01 1.15034910e-01]\n",
      " [6.98815771e-01 3.01184229e-01]\n",
      " [6.49183583e-01 3.50816417e-01]\n",
      " [8.16758396e-01 1.83241604e-01]\n",
      " [7.26051101e-01 2.73948899e-01]\n",
      " [6.43293485e-01 3.56706515e-01]\n",
      " [9.02432902e-01 9.75670978e-02]\n",
      " [7.97506246e-01 2.02493754e-01]\n",
      " [8.02737918e-01 1.97262082e-01]\n",
      " [5.34299444e-01 4.65700556e-01]\n",
      " [9.94187176e-01 5.81282369e-03]\n",
      " [9.92359139e-01 7.64086060e-03]\n",
      " [9.67039311e-01 3.29606891e-02]\n",
      " [9.48804388e-01 5.11956122e-02]\n",
      " [9.73411870e-01 2.65881303e-02]\n",
      " [8.73094446e-01 1.26905554e-01]\n",
      " [9.94411961e-01 5.58803902e-03]\n",
      " [9.84383065e-01 1.56169346e-02]\n",
      " [9.89221808e-01 1.07781921e-02]\n",
      " [9.91998883e-01 8.00111701e-03]\n",
      " [7.48227162e-01 2.51772838e-01]\n",
      " [9.81580877e-01 1.84191229e-02]\n",
      " [9.99106209e-01 8.93791219e-04]\n",
      " [9.89022621e-01 1.09773788e-02]\n",
      " [9.97157318e-01 2.84268157e-03]\n",
      " [8.77903788e-01 1.22096212e-01]\n",
      " [8.63498726e-01 1.36501274e-01]\n",
      " [9.82800332e-01 1.71996681e-02]\n",
      " [9.73953833e-01 2.60461669e-02]\n",
      " [9.33952924e-01 6.60470756e-02]\n",
      " [9.04837800e-01 9.51622000e-02]\n",
      " [9.62531301e-01 3.74686989e-02]\n",
      " [9.91305651e-01 8.69434885e-03]\n",
      " [9.98120610e-01 1.87939027e-03]\n",
      " [7.69066444e-01 2.30933556e-01]\n",
      " [8.96976240e-01 1.03023760e-01]\n",
      " [9.27156855e-01 7.28431454e-02]\n",
      " [7.93363082e-01 2.06636918e-01]\n",
      " [9.94198752e-01 5.80124794e-03]\n",
      " [3.73879299e-01 6.26120701e-01]\n",
      " [9.34530865e-01 6.54691348e-02]\n",
      " [9.94652696e-01 5.34730378e-03]\n",
      " [4.70316018e-01 5.29683982e-01]\n",
      " [7.17187210e-01 2.82812790e-01]\n",
      " [9.49489827e-01 5.05101733e-02]\n",
      " [9.53959941e-01 4.60400585e-02]\n",
      " [9.45531257e-01 5.44687433e-02]\n",
      " [9.18714051e-01 8.12859487e-02]\n",
      " [9.93968331e-01 6.03166873e-03]\n",
      " [9.95933648e-01 4.06635179e-03]\n",
      " [8.68599767e-01 1.31400233e-01]\n",
      " [4.00010447e-01 5.99989553e-01]\n",
      " [9.85980885e-01 1.40191152e-02]\n",
      " [9.80593354e-01 1.94066457e-02]\n",
      " [4.62212387e-01 5.37787613e-01]\n",
      " [8.75654484e-01 1.24345516e-01]\n",
      " [9.64085428e-01 3.59145716e-02]\n",
      " [8.88238787e-01 1.11761213e-01]\n",
      " [9.98354297e-01 1.64570309e-03]\n",
      " [9.47645373e-01 5.23546271e-02]\n",
      " [9.96944592e-01 3.05540766e-03]\n",
      " [9.97457403e-01 2.54259651e-03]\n",
      " [9.87212459e-01 1.27875411e-02]\n",
      " [9.97021629e-01 2.97837085e-03]\n",
      " [9.42322732e-01 5.76772683e-02]\n",
      " [6.53985245e-01 3.46014755e-01]\n",
      " [9.56755991e-01 4.32440092e-02]\n",
      " [9.42823779e-01 5.71762209e-02]\n",
      " [9.29810387e-01 7.01896133e-02]\n",
      " [9.91998883e-01 8.00111701e-03]\n",
      " [9.73407963e-01 2.65920375e-02]\n",
      " [8.06449663e-01 1.93550337e-01]\n",
      " [9.90891834e-01 9.10816621e-03]\n",
      " [9.68070944e-01 3.19290558e-02]\n",
      " [9.99387123e-01 6.12877297e-04]\n",
      " [9.82040967e-01 1.79590333e-02]\n",
      " [9.94120849e-01 5.87915093e-03]\n",
      " [9.08635210e-01 9.13647903e-02]\n",
      " [9.46367571e-01 5.36324286e-02]\n",
      " [9.36071628e-01 6.39283721e-02]\n",
      " [9.98831435e-01 1.16856490e-03]\n",
      " [9.58002815e-01 4.19971849e-02]\n",
      " [9.71409036e-01 2.85909643e-02]\n",
      " [9.43328806e-01 5.66711939e-02]\n",
      " [1.38976895e-01 8.61023105e-01]\n",
      " [1.59709335e-01 8.40290665e-01]\n",
      " [6.29800117e-01 3.70199883e-01]\n",
      " [1.02174789e-02 9.89782521e-01]\n",
      " [5.45223497e-01 4.54776503e-01]\n",
      " [5.98849560e-03 9.94011504e-01]\n",
      " [2.27154178e-02 9.77284582e-01]\n",
      " [9.77592678e-02 9.02240732e-01]\n",
      " [8.11054823e-01 1.88945177e-01]\n",
      " [1.08960357e-01 8.91039643e-01]\n",
      " [3.36065914e-03 9.96639341e-01]\n",
      " [8.92111284e-02 9.10788872e-01]\n",
      " [8.82331731e-01 1.17668269e-01]\n",
      " [4.82435803e-01 5.17564197e-01]\n",
      " [4.87083164e-03 9.95129168e-01]\n",
      " [1.90606502e-01 8.09393498e-01]\n",
      " [5.11051915e-01 4.88948085e-01]\n",
      " [1.61246888e-01 8.38753112e-01]\n",
      " [9.27636904e-04 9.99072363e-01]\n",
      " [5.38329617e-01 4.61670383e-01]\n",
      " [6.52410938e-01 3.47589062e-01]\n",
      " [1.14331809e-01 8.85668191e-01]\n",
      " [4.12177478e-03 9.95878225e-01]\n",
      " [9.12959361e-01 8.70406390e-02]\n",
      " [8.54722228e-01 1.45277772e-01]\n",
      " [3.43894588e-01 6.56105412e-01]\n",
      " [2.77702574e-03 9.97222974e-01]\n",
      " [6.71637566e-01 3.28362434e-01]\n",
      " [4.81859800e-01 5.18140200e-01]\n",
      " [2.13968841e-01 7.86031159e-01]\n",
      " [8.55867872e-01 1.44132128e-01]\n",
      " [2.36322913e-01 7.63677087e-01]\n",
      " [8.88736106e-02 9.11126389e-01]\n",
      " [3.75002140e-01 6.24997860e-01]\n",
      " [2.05049023e-01 7.94950977e-01]\n",
      " [7.16183219e-01 2.83816781e-01]\n",
      " [7.42398047e-01 2.57601953e-01]\n",
      " [2.57044889e-01 7.42955111e-01]\n",
      " [5.45850280e-03 9.94541497e-01]\n",
      " [3.26676923e-02 9.67332308e-01]\n",
      " [7.84838671e-01 2.15161329e-01]\n",
      " [9.81402566e-02 9.01859743e-01]\n",
      " [1.41070445e-02 9.85892956e-01]\n",
      " [6.19962333e-01 3.80037667e-01]\n",
      " [7.55025221e-03 9.92449748e-01]\n",
      " [9.41034476e-01 5.89655236e-02]\n",
      " [5.33262315e-03 9.94667377e-01]\n",
      " [7.12846647e-01 2.87153353e-01]\n",
      " [6.89415258e-01 3.10584742e-01]\n",
      " [7.67776030e-01 2.32223970e-01]\n",
      " [8.59856669e-01 1.40143331e-01]\n",
      " [2.42141706e-02 9.75785829e-01]\n",
      " [1.52953709e-01 8.47046291e-01]\n",
      " [4.08218550e-01 5.91781450e-01]\n",
      " [5.98370294e-02 9.40162971e-01]\n",
      " [6.19962333e-01 3.80037667e-01]\n",
      " [7.16183219e-01 2.83816781e-01]\n",
      " [1.31051397e-02 9.86894860e-01]\n",
      " [5.25626841e-02 9.47437316e-01]\n",
      " [8.37100162e-01 1.62899838e-01]\n",
      " [1.39310923e-01 8.60689077e-01]\n",
      " [7.37649208e-03 9.92623508e-01]\n",
      " [8.63734885e-01 1.36265115e-01]\n",
      " [9.37113887e-02 9.06288611e-01]\n",
      " [2.23084259e-01 7.76915741e-01]\n",
      " [5.42429722e-01 4.57570278e-01]\n",
      " [7.09042176e-01 2.90957824e-01]\n",
      " [2.00395738e-02 9.79960426e-01]\n",
      " [6.80859145e-01 3.19140855e-01]\n",
      " [7.42427856e-02 9.25757214e-01]\n",
      " [2.29701560e-02 9.77029844e-01]\n",
      " [4.88425615e-02 9.51157439e-01]\n",
      " [2.88072826e-01 7.11927174e-01]\n",
      " [2.31592060e-01 7.68407940e-01]\n",
      " [2.57429629e-02 9.74257037e-01]\n",
      " [6.87925229e-01 3.12074771e-01]\n",
      " [8.23068687e-02 9.17693131e-01]\n",
      " [3.60790825e-01 6.39209175e-01]\n",
      " [4.91109383e-01 5.08890617e-01]\n",
      " [1.40086289e-02 9.85991371e-01]\n",
      " [8.68616996e-01 1.31383004e-01]\n",
      " [7.42426915e-01 2.57573085e-01]\n",
      " [5.35334661e-01 4.64665339e-01]\n",
      " [1.20132132e-02 9.87986787e-01]\n",
      " [6.25473450e-01 3.74526550e-01]\n",
      " [8.59838478e-01 1.40161522e-01]\n",
      " [2.05488106e-02 9.79451189e-01]\n",
      " [4.44240707e-01 5.55759293e-01]\n",
      " [7.58122228e-01 2.41877772e-01]\n",
      " [1.11060705e-01 8.88939295e-01]\n",
      " [7.91917601e-02 9.20808240e-01]\n",
      " [1.52891316e-01 8.47108684e-01]\n",
      " [6.82400052e-01 3.17599948e-01]\n",
      " [9.22458522e-01 7.75414776e-02]\n",
      " [8.80606965e-01 1.19393035e-01]\n",
      " [4.50573228e-01 5.49426772e-01]\n",
      " [1.62209531e-01 8.37790469e-01]\n",
      " [2.44379146e-01 7.55620854e-01]\n",
      " [4.97397413e-02 9.50260259e-01]\n",
      " [1.26838207e-01 8.73161793e-01]\n",
      " [1.68317159e-01 8.31682841e-01]\n",
      " [2.08518213e-01 7.91481787e-01]\n",
      " [6.63935385e-01 3.36064615e-01]\n",
      " [7.71932171e-01 2.28067829e-01]\n",
      " [6.45449289e-01 3.54550711e-01]\n",
      " [1.24323545e-02 9.87567645e-01]\n",
      " [6.98691999e-02 9.30130800e-01]\n",
      " [2.64331643e-01 7.35668357e-01]\n",
      " [8.90063440e-01 1.09936560e-01]\n",
      " [5.85918514e-01 4.14081486e-01]\n",
      " [3.81059951e-01 6.18940049e-01]\n",
      " [8.90063440e-01 1.09936560e-01]\n",
      " [1.45384241e-02 9.85461576e-01]\n",
      " [6.56563229e-01 3.43436771e-01]\n",
      " [6.93365379e-01 3.06634621e-01]\n",
      " [2.20004038e-02 9.77999596e-01]\n",
      " [8.94788230e-01 1.05211770e-01]\n",
      " [6.99269355e-01 3.00730645e-01]\n",
      " [8.46127284e-01 1.53872716e-01]\n",
      " [8.41708122e-03 9.91582919e-01]\n",
      " [6.63057390e-02 9.33694261e-01]\n",
      " [7.12846647e-01 2.87153353e-01]\n",
      " [6.61208692e-01 3.38791308e-01]\n",
      " [2.73743742e-02 9.72625626e-01]\n",
      " [7.29688174e-01 2.70311826e-01]\n",
      " [5.17450085e-01 4.82549915e-01]\n",
      " [5.34261883e-01 4.65738117e-01]\n",
      " [3.25243566e-01 6.74756434e-01]\n",
      " [8.81147725e-02 9.11885227e-01]\n",
      " [8.36150261e-01 1.63849739e-01]\n",
      " [4.45002714e-02 9.55499729e-01]\n",
      " [5.34299444e-01 4.65700556e-01]\n",
      " [6.43328124e-01 3.56671876e-01]\n",
      " [4.53939886e-02 9.54606011e-01]\n",
      " [9.14973340e-01 8.50266596e-02]\n",
      " [1.11509425e-03 9.98884906e-01]\n",
      " [7.56448575e-01 2.43551425e-01]\n",
      " [8.67787221e-01 1.32212779e-01]\n",
      " [1.71320233e-01 8.28679767e-01]\n",
      " [2.74318362e-02 9.72568164e-01]\n",
      " [7.86035305e-01 2.13964695e-01]\n",
      " [8.11811394e-01 1.88188606e-01]\n",
      " [5.03376313e-01 4.96623687e-01]\n",
      " [6.46162185e-02 9.35383782e-01]\n",
      " [7.04147722e-01 2.95852278e-01]\n",
      " [6.63150851e-02 9.33684915e-01]\n",
      " [1.86637378e-02 9.81336262e-01]\n",
      " [5.77470588e-01 4.22529412e-01]\n",
      " [7.70325126e-01 2.29674874e-01]\n",
      " [3.65217918e-01 6.34782082e-01]\n",
      " [7.00308141e-01 2.99691859e-01]\n",
      " [3.79351127e-01 6.20648873e-01]\n",
      " [8.83273816e-01 1.16726184e-01]\n",
      " [5.16911721e-01 4.83088279e-01]\n",
      " [6.70252314e-02 9.32974769e-01]\n",
      " [5.80311627e-02 9.41968837e-01]\n",
      " [6.19962333e-01 3.80037667e-01]\n",
      " [5.83707603e-01 4.16292397e-01]\n",
      " [6.45449289e-01 3.54550711e-01]\n",
      " [5.86931135e-02 9.41306887e-01]\n",
      " [3.47451206e-01 6.52548794e-01]\n",
      " [5.13865574e-01 4.86134426e-01]\n",
      " [4.92345198e-01 5.07654802e-01]\n",
      " [1.82506410e-01 8.17493590e-01]\n",
      " [1.44589653e-01 8.55410347e-01]\n",
      " [9.05491546e-02 9.09450845e-01]\n",
      " [1.50233493e-01 8.49766507e-01]\n",
      " [6.87925229e-01 3.12074771e-01]\n",
      " [3.72687228e-01 6.27312772e-01]\n",
      " [6.19542742e-02 9.38045726e-01]\n",
      " [9.10404254e-03 9.90895957e-01]\n",
      " [7.10917103e-01 2.89082897e-01]\n",
      " [1.59973174e-03 9.98400268e-01]\n",
      " [7.42398047e-01 2.57601953e-01]\n",
      " [7.38303227e-01 2.61696773e-01]\n",
      " [3.26157413e-01 6.73842587e-01]\n",
      " [7.42810152e-01 2.57189848e-01]\n",
      " [3.63608266e-01 6.36391734e-01]\n",
      " [2.14225165e-01 7.85774835e-01]\n",
      " [5.44726292e-01 4.55273708e-01]\n",
      " [5.30764183e-01 4.69235817e-01]\n",
      " [4.73667135e-02 9.52633286e-01]\n",
      " [5.26688397e-01 4.73311603e-01]\n",
      " [1.83450790e-01 8.16549210e-01]\n",
      " [5.62685178e-02 9.43731482e-01]\n",
      " [5.16177634e-01 4.83822366e-01]\n",
      " [6.37429516e-01 3.62570484e-01]\n",
      " [5.76263650e-01 4.23736350e-01]\n",
      " [6.12736559e-01 3.87263441e-01]\n",
      " [5.30764183e-01 4.69235817e-01]\n",
      " [6.83333856e-01 3.16666144e-01]\n",
      " [6.72112875e-01 3.27887125e-01]\n",
      " [4.88425615e-02 9.51157439e-01]\n",
      " [8.15693298e-01 1.84306702e-01]\n",
      " [6.59132018e-01 3.40867982e-01]\n",
      " [4.66123329e-01 5.33876671e-01]\n",
      " [6.53842077e-01 3.46157923e-01]\n",
      " [9.44682663e-01 5.53173368e-02]\n",
      " [5.47517742e-01 4.52482258e-01]]\n"
     ]
    }
   ],
   "source": [
    "print(classifier.predict_proba(X))"
   ]
  },
  {
   "cell_type": "code",
   "execution_count": 42,
   "id": "80377ecf",
   "metadata": {},
   "outputs": [
    {
     "data": {
      "text/plain": [
       "array([[63,  9],\n",
       "       [14, 34]], dtype=int64)"
      ]
     },
     "execution_count": 42,
     "metadata": {},
     "output_type": "execute_result"
    }
   ],
   "source": [
    "from sklearn.metrics import confusion_matrix\n",
    "cf_matrix = confusion_matrix(y_test, y_pred)\n",
    "cf_matrix"
   ]
  },
  {
   "cell_type": "code",
   "execution_count": 43,
   "id": "4c5534f1",
   "metadata": {},
   "outputs": [
    {
     "data": {
      "text/plain": [
       "Text(0.5, 23.52222222222222, 'Predicted label')"
      ]
     },
     "execution_count": 43,
     "metadata": {},
     "output_type": "execute_result"
    },
    {
     "data": {
      "image/png": "[encoded data removed]",
      "text/plain": [
       "<Figure size 640x480 with 2 Axes>"
      ]
     },
     "metadata": {},
     "output_type": "display_data"
    }
   ],
   "source": [
    "sns.heatmap(pd.DataFrame(cf_matrix), annot=True, cmap=\"YlGnBu\" ,fmt='g')\n",
    "plt.title('Confusion matrix', y=1.1)\n",
    "plt.ylabel('Actual label')\n",
    "plt.xlabel('Predicted label')"
   ]
  },
  {
   "cell_type": "code",
   "execution_count": 45,
   "id": "6619566c",
   "metadata": {},
   "outputs": [
    {
     "data": {
      "text/plain": [
       "0.8083333333333333"
      ]
     },
     "execution_count": 45,
     "metadata": {},
     "output_type": "execute_result"
    }
   ],
   "source": [
    "from sklearn.metrics import accuracy_score\n",
    "Accuracy = (63 + 34)/(63 + 34 + 9 + 14)\n",
    "Accuracy # 0.8083333333333333 \n",
    "# Also same result from sklearn accuracy_scorefrom sklearn.metrics import accuracy_score\n",
    "\n",
    "accuracy_score(y_test,y_pred) #0.8083333333333333"
   ]
  },
  {
   "cell_type": "code",
   "execution_count": 47,
   "id": "6326e1a3",
   "metadata": {},
   "outputs": [
    {
     "name": "stdout",
     "output_type": "stream",
     "text": [
      "                   precision    recall  f1-score   support\n",
      "\n",
      "will NOT PURCHASE       0.82      0.88      0.85        72\n",
      "    will PURCHASE       0.79      0.71      0.75        48\n",
      "\n",
      "         accuracy                           0.81       120\n",
      "        macro avg       0.80      0.79      0.80       120\n",
      "     weighted avg       0.81      0.81      0.81       120\n",
      "\n"
     ]
    }
   ],
   "source": [
    "from sklearn.metrics import classification_report\n",
    "target_names = ['will NOT PURCHASE', 'will PURCHASE']\n",
    "\n",
    "print(classification_report(y_test, y_pred,target_names=target_names))"
   ]
  },
  {
   "cell_type": "code",
   "execution_count": null,
   "id": "a0a33e17",
   "metadata": {},
   "outputs": [],
   "source": []
  }
 ],
 "metadata": {
  "kernelspec": {
   "display_name": "Python 3 (ipykernel)",
   "language": "python",
   "name": "python3"
  },
  "language_info": {
   "codemirror_mode": {
    "name": "ipython",
    "version": 3
   },
   "file_extension": ".py",
   "mimetype": "text/x-python",
   "name": "python",
   "nbconvert_exporter": "python",
   "pygments_lexer": "ipython3",
   "version": "3.11.4"
  }
 },
 "nbformat": 4,
 "nbformat_minor": 5
}
